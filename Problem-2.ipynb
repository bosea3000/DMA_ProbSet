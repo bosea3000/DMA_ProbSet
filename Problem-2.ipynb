{
 "cells": [
  {
   "cell_type": "code",
   "execution_count": 1,
   "metadata": {
    "collapsed": false
   },
   "outputs": [
    {
     "name": "stdout",
     "output_type": "stream",
     "text": [
      "  1. ACCT_ID\r\n",
      "\t<class 'int'>\r\n",
      "\tNulls: False\r\n",
      "\tMin: 112110616977376\r\n",
      "\tMax: 4611679791824819900\r\n",
      "\tSum: 22730670545637110906347\r\n",
      "\tMean: 2.2953317727594778e+18\r\n",
      "\tMedian: 2316664370354537529\r\n",
      "\tStandard Deviation: 1.333126148041693e+18\r\n",
      "\tUnique values: 9903\r\n",
      "  2. COUNTRY_CODE\r\n",
      "\t<class 'str'>\r\n",
      "\tNulls: False\r\n",
      "\tUnique values: 11\r\n",
      "\t5 most frequent values:\r\n",
      "\t\tUS:\t8010\r\n",
      "\t\tCA:\t1254\r\n",
      "\t\tBR:\t335\r\n",
      "\t\tMX:\t131\r\n",
      "\t\tAR:\t87\r\n",
      "\tMax length: 2\r\n",
      "  3. LANGUAGE_CODE\r\n",
      "\t<class 'str'>\r\n",
      "\tNulls: False\r\n",
      "\tValues: fr, pt, en, es\r\n",
      "  4. OPT_IN_FLAG\r\n",
      "\t<class 'int'>\r\n",
      "\tNulls: False\r\n",
      "\tValues: 0, 1\r\n",
      "\r\n",
      "Row count: 9903\r\n"
     ]
    }
   ],
   "source": [
    "!csvstat dim_acct.csv"
   ]
  },
  {
   "cell_type": "code",
   "execution_count": 2,
   "metadata": {
    "collapsed": false
   },
   "outputs": [
    {
     "name": "stdout",
     "output_type": "stream",
     "text": [
      "  1. sku\r\n",
      "\t<class 'int'>\r\n",
      "\tNulls: False\r\n",
      "\tMin: 24996\r\n",
      "\tMax: 76813\r\n",
      "\tSum: 47339896\r\n",
      "\tMean: 63886.49932523617\r\n",
      "\tMedian: 63589\r\n",
      "\tStandard Deviation: 8827.863736954238\r\n",
      "\tUnique values: 709\r\n",
      "\t5 most frequent values:\r\n",
      "\t\t73404:\t3\r\n",
      "\t\t55210:\t2\r\n",
      "\t\t73692:\t2\r\n",
      "\t\t74238:\t2\r\n",
      "\t\t69489:\t2\r\n",
      "  2. game_name\r\n",
      "\t<class 'str'>\r\n",
      "\tNulls: False\r\n",
      "\tValues: Fifa 16, Destiny, Fifa 15\r\n",
      "\r\n",
      "Row count: 741\r\n"
     ]
    }
   ],
   "source": [
    "!csvstat dim_product.csv"
   ]
  },
  {
   "cell_type": "code",
   "execution_count": 3,
   "metadata": {
    "collapsed": false
   },
   "outputs": [
    {
     "name": "stdout",
     "output_type": "stream",
     "text": [
      "  1. ACCT_ID\n",
      "\t<class 'int'>\n",
      "\tNulls: False\n",
      "\tMin: 112110616977376\n",
      "\tMax: 4611679791824819900\n",
      "\tSum: 22832397974228024195145\n",
      "\tMean: 2.2958670662873833e+18\n",
      "\tMedian: 2318601711805822924\n",
      "\tStandard Deviation: 1.3333984314874568e+18\n",
      "\tUnique values: 9903\n",
      "\t5 most frequent values:\n",
      "\t\t4325452977810999850:\t2\n",
      "\t\t3622466727119658779:\t2\n",
      "\t\t237755680392739618:\t2\n",
      "\t\t4024747712087038459:\t2\n",
      "\t\t1102743685708855971:\t2\n",
      "  2. TRANSACTION_TIMESTAMP\n",
      "\t<class 'datetime.datetime'>\n",
      "\tNulls: False\n",
      "\tMin: 2015-10-18 00:00:00\n",
      "\tMax: 2015-11-16 16:24:00\n",
      "\tUnique values: 8469\n",
      "\t5 most frequent values:\n",
      "\t\t2015-10-18 00:00:00:\t6\n",
      "\t\t2015-10-18 00:50:00:\t4\n",
      "\t\t2015-10-25 00:40:00:\t4\n",
      "\t\t2015-11-06 01:53:00:\t4\n",
      "\t\t2015-11-01 23:00:00:\t4\n",
      "  3. TRANSACTION_VALUE\n",
      "\t<class 'float'>\n",
      "\tNulls: False\n",
      "\tMin: 0.36567\n",
      "\tMax: 149.99\n",
      "\tSum: 189099.6233399983\n",
      "\tMean: 19.01454231674191\n",
      "\tMedian: 9.99\n",
      "\tStandard Deviation: 22.599633708954638\n",
      "\tUnique values: 385\n",
      "\t5 most frequent values:\n",
      "\t\t9.99:\t1122\n",
      "\t\t1.99:\t990\n",
      "\t\t19.99:\t951\n",
      "\t\t59.99:\t742\n",
      "\t\t4.99:\t731\n",
      "  4. SKU\n",
      "\t<class 'int'>\n",
      "\tNulls: False\n",
      "\tMin: 21\n",
      "\tMax: 77067\n",
      "\tSum: 598997067\n",
      "\tMean: 60230.977073906484\n",
      "\tMedian: 69549\n",
      "\tStandard Deviation: 20198.105056513952\n",
      "\tUnique values: 1741\n",
      "\t5 most frequent values:\n",
      "\t\t35589:\t413\n",
      "\t\t35514:\t379\n",
      "\t\t74475:\t301\n",
      "\t\t35590:\t299\n",
      "\t\t73123:\t256\n",
      "\n",
      "Row count: 9945\n"
     ]
    }
   ],
   "source": [
    "!csvstat fct_transaction.csv"
   ]
  },
  {
   "cell_type": "code",
   "execution_count": 4,
   "metadata": {
    "collapsed": false
   },
   "outputs": [
    {
     "name": "stderr",
     "output_type": "stream",
     "text": [
      "/opt/conda/lib/python3.5/site-packages/IPython/config.py:13: ShimWarning: The `IPython.config` package has been deprecated. You should import from traitlets.config instead.\n",
      "  \"You should import from traitlets.config instead.\", ShimWarning)\n",
      "/opt/conda/lib/python3.5/site-packages/IPython/utils/traitlets.py:5: UserWarning: IPython.utils.traitlets has moved to a top-level traitlets package.\n",
      "  warn(\"IPython.utils.traitlets has moved to a top-level traitlets package.\")\n"
     ]
    }
   ],
   "source": [
    "%load_ext sql"
   ]
  },
  {
   "cell_type": "code",
   "execution_count": 5,
   "metadata": {
    "collapsed": false
   },
   "outputs": [
    {
     "name": "stdout",
     "output_type": "stream",
     "text": [
      "[sudo] password for jovyan: Restarting PostgreSQL 9.5 database server: main.\n"
     ]
    }
   ],
   "source": [
    "!echo 'redspot' | sudo -S service postgresql restart"
   ]
  },
  {
   "cell_type": "code",
   "execution_count": 6,
   "metadata": {
    "collapsed": false
   },
   "outputs": [
    {
     "name": "stdout",
     "output_type": "stream",
     "text": [
      "createdb: database creation failed: ERROR:  database \"CRM\" already exists\r\n"
     ]
    }
   ],
   "source": [
    "!createdb -U dbuser CRM"
   ]
  },
  {
   "cell_type": "code",
   "execution_count": 7,
   "metadata": {
    "collapsed": false
   },
   "outputs": [
    {
     "data": {
      "text/plain": [
       "'Connected: dbuser@CRM'"
      ]
     },
     "execution_count": 7,
     "metadata": {},
     "output_type": "execute_result"
    }
   ],
   "source": [
    "%sql postgresql://dbuser@localhost:5432/CRM"
   ]
  },
  {
   "cell_type": "code",
   "execution_count": 32,
   "metadata": {
    "collapsed": false
   },
   "outputs": [
    {
     "name": "stdout",
     "output_type": "stream",
     "text": [
      "Done.\n",
      "Done.\n"
     ]
    },
    {
     "data": {
      "text/plain": [
       "[]"
      ]
     },
     "execution_count": 32,
     "metadata": {},
     "output_type": "execute_result"
    }
   ],
   "source": [
    "%%sql\n",
    "DROP TABLE IF EXISTS account;\n",
    "CREATE TABLE account (\n",
    "    ACCT_ID FLOAT,\n",
    "    COUNTRY_CODE VARCHAR(2),\n",
    "    LANGUAGE_CODE VARCHAR(2),\n",
    "    OPT_IN_FLAG INT,\n",
    "    PRIMARY KEY (ACCT_ID)\n",
    "    )"
   ]
  },
  {
   "cell_type": "code",
   "execution_count": 33,
   "metadata": {
    "collapsed": false
   },
   "outputs": [
    {
     "name": "stdout",
     "output_type": "stream",
     "text": [
      "/home/jovyan/work\r\n"
     ]
    }
   ],
   "source": [
    "!pwd"
   ]
  },
  {
   "cell_type": "code",
   "execution_count": 34,
   "metadata": {
    "collapsed": false
   },
   "outputs": [
    {
     "name": "stdout",
     "output_type": "stream",
     "text": [
      "9903 rows affected.\n"
     ]
    },
    {
     "data": {
      "text/plain": [
       "[]"
      ]
     },
     "execution_count": 34,
     "metadata": {},
     "output_type": "execute_result"
    }
   ],
   "source": [
    "%%sql\n",
    "COPY account FROM '/home/jovyan/work/dim_acct.csv'\n",
    "CSV\n",
    "HEADER\n",
    "QUOTE '\"'\n",
    "DELIMITER ',';"
   ]
  },
  {
   "cell_type": "code",
   "execution_count": 35,
   "metadata": {
    "collapsed": false
   },
   "outputs": [
    {
     "name": "stdout",
     "output_type": "stream",
     "text": [
      "1 rows affected.\n"
     ]
    },
    {
     "data": {
      "text/html": [
       "<table>\n",
       "    <tr>\n",
       "        <th>count</th>\n",
       "    </tr>\n",
       "    <tr>\n",
       "        <td>9903</td>\n",
       "    </tr>\n",
       "</table>"
      ],
      "text/plain": [
       "[(9903,)]"
      ]
     },
     "execution_count": 35,
     "metadata": {},
     "output_type": "execute_result"
    }
   ],
   "source": [
    "%%sql\n",
    "SELECT count(account.ACCT_ID) FROM account;"
   ]
  },
  {
   "cell_type": "code",
   "execution_count": 38,
   "metadata": {
    "collapsed": false
   },
   "outputs": [
    {
     "name": "stdout",
     "output_type": "stream",
     "text": [
      "1 rows affected.\n"
     ]
    },
    {
     "data": {
      "text/html": [
       "<table>\n",
       "    <tr>\n",
       "        <th>count</th>\n",
       "    </tr>\n",
       "    <tr>\n",
       "        <td>9903</td>\n",
       "    </tr>\n",
       "</table>"
      ],
      "text/plain": [
       "[(9903,)]"
      ]
     },
     "execution_count": 38,
     "metadata": {},
     "output_type": "execute_result"
    }
   ],
   "source": [
    "%%sql\n",
    "SELECT COUNT(DISTINCT(ACCT_ID)) from account"
   ]
  },
  {
   "cell_type": "code",
   "execution_count": 42,
   "metadata": {
    "collapsed": false
   },
   "outputs": [
    {
     "name": "stdout",
     "output_type": "stream",
     "text": [
      "Done.\n",
      "Done.\n"
     ]
    },
    {
     "data": {
      "text/plain": [
       "[]"
      ]
     },
     "execution_count": 42,
     "metadata": {},
     "output_type": "execute_result"
    }
   ],
   "source": [
    "%%sql\n",
    "DROP TABLE IF EXISTS product;\n",
    "CREATE TABLE product (\n",
    "    SKU INT,\n",
    "    GAME_NAME VARCHAR(10)\n",
    "    )"
   ]
  },
  {
   "cell_type": "code",
   "execution_count": 43,
   "metadata": {
    "collapsed": false
   },
   "outputs": [
    {
     "name": "stdout",
     "output_type": "stream",
     "text": [
      "741 rows affected.\n"
     ]
    },
    {
     "data": {
      "text/plain": [
       "[]"
      ]
     },
     "execution_count": 43,
     "metadata": {},
     "output_type": "execute_result"
    }
   ],
   "source": [
    "%%sql\n",
    "COPY product FROM '/home/jovyan/work/dim_product.csv'\n",
    "CSV\n",
    "HEADER\n",
    "QUOTE '\"'\n",
    "DELIMITER ',';"
   ]
  },
  {
   "cell_type": "code",
   "execution_count": 15,
   "metadata": {
    "collapsed": false
   },
   "outputs": [
    {
     "name": "stdout",
     "output_type": "stream",
     "text": [
      "1 rows affected.\n"
     ]
    },
    {
     "data": {
      "text/html": [
       "<table>\n",
       "    <tr>\n",
       "        <th>count</th>\n",
       "    </tr>\n",
       "    <tr>\n",
       "        <td>741</td>\n",
       "    </tr>\n",
       "</table>"
      ],
      "text/plain": [
       "[(741,)]"
      ]
     },
     "execution_count": 15,
     "metadata": {},
     "output_type": "execute_result"
    }
   ],
   "source": [
    "%%sql\n",
    "SELECT count(product.SKU) FROM product;"
   ]
  },
  {
   "cell_type": "code",
   "execution_count": 44,
   "metadata": {
    "collapsed": false
   },
   "outputs": [
    {
     "name": "stdout",
     "output_type": "stream",
     "text": [
      "1 rows affected.\n"
     ]
    },
    {
     "data": {
      "text/html": [
       "<table>\n",
       "    <tr>\n",
       "        <th>count</th>\n",
       "    </tr>\n",
       "    <tr>\n",
       "        <td>709</td>\n",
       "    </tr>\n",
       "</table>"
      ],
      "text/plain": [
       "[(709,)]"
      ]
     },
     "execution_count": 44,
     "metadata": {},
     "output_type": "execute_result"
    }
   ],
   "source": [
    "%%sql\n",
    "SELECT COUNT(DISTINCT(SKU)) from product"
   ]
  },
  {
   "cell_type": "code",
   "execution_count": 45,
   "metadata": {
    "collapsed": false
   },
   "outputs": [
    {
     "name": "stdout",
     "output_type": "stream",
     "text": [
      "Done.\n"
     ]
    },
    {
     "data": {
      "text/plain": [
       "[]"
      ]
     },
     "execution_count": 45,
     "metadata": {},
     "output_type": "execute_result"
    }
   ],
   "source": [
    "%%sql\n",
    "ALTER TABLE product\n",
    "ADD COLUMN product_id SERIAL PRIMARY KEY;"
   ]
  },
  {
   "cell_type": "code",
   "execution_count": 47,
   "metadata": {
    "collapsed": false
   },
   "outputs": [
    {
     "name": "stdout",
     "output_type": "stream",
     "text": [
      "Done.\n",
      "Done.\n"
     ]
    },
    {
     "data": {
      "text/plain": [
       "[]"
      ]
     },
     "execution_count": 47,
     "metadata": {},
     "output_type": "execute_result"
    }
   ],
   "source": [
    "%%sql\n",
    "DROP TABLE IF EXISTS transaction_fct;\n",
    "CREATE TABLE transaction_fct (\n",
    "    ACCT_ID INT,\n",
    "    TIME_STAMP TIMESTAMP,\n",
    "    TRANSACTION_VALUE FLOAT,\n",
    "    PRODUCT_ID INT,\n",
    "    FOREIGN KEY (ACCT_ID) REFERENCES account(ACCT_ID),\n",
    "    FOREIGN KEY (PRODUCT_ID) REFERENCES product(product_id)\n",
    ")"
   ]
  },
  {
   "cell_type": "code",
   "execution_count": null,
   "metadata": {
    "collapsed": true
   },
   "outputs": [],
   "source": [
    "%%sql\n",
    "INSERT INTO education_fact \n",
    "SELECT education15.institution,year_D.year_id,location_D.location_id,admission_D.admission_id,retention_D.retention_id,sat_D.sat_id,debt_D.debt_id,fam_income_D.fam_income_id\n",
    "FROM education15\n",
    "JOIN\n",
    "year_D\n",
    "ON education15.year=year_D.year\n",
    "JOIN\n",
    "location_D\n",
    "ON \n",
    "education15.city=location_D.city\n",
    "AND education15.stabbr=location_D.state\n",
    "AND education15.zip=location_D.zip\n",
    "JOIN\n",
    "admission_D\n",
    "ON\n",
    "education15.adm_rate=admission_D.adm_rate\n",
    "AND education15.adm_rate_all=admission_D.adm_rate_all\n",
    "JOIN\n",
    "retention_D\n",
    "ON\n",
    "education15.ret_ft4=retention_D.ret_ft4\n",
    "AND education15.ret_ftl4=retention_D.ret_ftl4_all\n",
    "AND education15.ret_pt4=retention_D.ret_pt4\n",
    "AND education15.ret_ptl4=retention_D.ret_ptl4\n",
    "JOIN\n",
    "sat_D\n",
    "ON\n",
    "education15.sat_avg=sat_d.sat_avg\n",
    "AND education15.sat_avg_all=sat_d.sat_avg_all\n",
    "JOIN\n",
    "debt_d\n",
    "ON\n",
    "education15.debt_mdn=debt_D.debt_md\n",
    "AND education15.grad_debt_mdn=debt_D.grad_debt_md\n",
    "AND education15.wdraw_debt_mdn=debt_D.wdraw_debt_md\n",
    "AND education15.lo_inc_debt_mdn=debt_D.lo_inc_debt_md\n",
    "AND education15.md_inc_debt_mdn=debt_D.md_inc_debt_md\n",
    "AND education15.hi_inc_debt_mdn=debt_D.hi_inc_debt_md\n",
    "JOIN\n",
    "fam_income_D\n",
    "ON\n",
    "education15.inc_pct_lo=fam_income_D.inc_pct_lo\n",
    "AND education15.inc_pct_m1=fam_income_D.inc_pct_m1\n",
    "AND education15.inc_pct_m2=fam_income_D.inc_pct_m2\n",
    "AND education15.inc_pct_h1=fam_income_D.inc_pct_h1\n",
    "AND education15.inc_pct_h2=fam_income_D.inc_pct_h2\n",
    "\n"
   ]
  }
 ],
 "metadata": {
  "kernelspec": {
   "display_name": "Python 3",
   "language": "python",
   "name": "python3"
  },
  "language_info": {
   "codemirror_mode": {
    "name": "ipython",
    "version": 3
   },
   "file_extension": ".py",
   "mimetype": "text/x-python",
   "name": "python",
   "nbconvert_exporter": "python",
   "pygments_lexer": "ipython3",
   "version": "3.5.2"
  }
 },
 "nbformat": 4,
 "nbformat_minor": 1
}
