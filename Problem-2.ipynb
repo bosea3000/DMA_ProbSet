{
 "cells": [
  {
   "cell_type": "markdown",
   "metadata": {},
   "source": [
    "# PART 1 - Loading & Pre Processing \n",
    "\n",
    "### Platforms: Shell Scripting, Python 3\n",
    "\n",
    "#### Steps:\n",
    "*All of this can be automated using wget command, but due to NDA, the data cannot be put on public Github repository and as such cannot utilize wget. \n",
    "     1. Visit www.datanotebook.org (Password: simplex)\n",
    "     2. On the upper right corner, select 'Upload' to upload 'Problem-2.ipynb' + all accompanying csv files.\n",
    "     3. Double click on Problem-2.ipynb to start notebook\n",
    "     4. On the toggle bar, select Run > Run All\n",
    "     \n",
    "     * Load some python visualization libraries \n",
    "     * Run 'csvstat' - to get descriptive stats of each file + observe any missing or NULL values\n",
    "    "
   ]
  },
  {
   "cell_type": "code",
   "execution_count": 1,
   "metadata": {
    "collapsed": false
   },
   "outputs": [
    {
     "data": {
      "text/html": [
       "\n",
       "    <div class=\"bk-banner\">\n",
       "        <a href=\"http://bokeh.pydata.org\" target=\"_blank\" class=\"bk-logo bk-logo-small bk-logo-notebook\"></a>\n",
       "        <span id=\"eae1d5dc-cf49-4fca-af68-00e911c93b0c\">Loading BokehJS ...</span>\n",
       "    </div>"
      ]
     },
     "metadata": {},
     "output_type": "display_data"
    },
    {
     "data": {
      "application/javascript": [
       "\n",
       "(function(global) {\n",
       "  function now() {\n",
       "    return new Date();\n",
       "  }\n",
       "\n",
       "  if (typeof (window._bokeh_onload_callbacks) === \"undefined\") {\n",
       "    window._bokeh_onload_callbacks = [];\n",
       "  }\n",
       "\n",
       "  function run_callbacks() {\n",
       "    window._bokeh_onload_callbacks.forEach(function(callback) { callback() });\n",
       "    delete window._bokeh_onload_callbacks\n",
       "    console.info(\"Bokeh: all callbacks have finished\");\n",
       "  }\n",
       "\n",
       "  function load_libs(js_urls, callback) {\n",
       "    window._bokeh_onload_callbacks.push(callback);\n",
       "    if (window._bokeh_is_loading > 0) {\n",
       "      console.log(\"Bokeh: BokehJS is being loaded, scheduling callback at\", now());\n",
       "      return null;\n",
       "    }\n",
       "    if (js_urls == null || js_urls.length === 0) {\n",
       "      run_callbacks();\n",
       "      return null;\n",
       "    }\n",
       "    console.log(\"Bokeh: BokehJS not loaded, scheduling load and callback at\", now());\n",
       "    window._bokeh_is_loading = js_urls.length;\n",
       "    for (var i = 0; i < js_urls.length; i++) {\n",
       "      var url = js_urls[i];\n",
       "      var s = document.createElement('script');\n",
       "      s.src = url;\n",
       "      s.async = false;\n",
       "      s.onreadystatechange = s.onload = function() {\n",
       "        window._bokeh_is_loading--;\n",
       "        if (window._bokeh_is_loading === 0) {\n",
       "          console.log(\"Bokeh: all BokehJS libraries loaded\");\n",
       "          run_callbacks()\n",
       "        }\n",
       "      };\n",
       "      s.onerror = function() {\n",
       "        console.warn(\"failed to load library \" + url);\n",
       "      };\n",
       "      console.log(\"Bokeh: injecting script tag for BokehJS library: \", url);\n",
       "      document.getElementsByTagName(\"head\")[0].appendChild(s);\n",
       "    }\n",
       "  };\n",
       "\n",
       "  var js_urls = ['https://cdn.pydata.org/bokeh/release/bokeh-0.11.1.min.js', 'https://cdn.pydata.org/bokeh/release/bokeh-widgets-0.11.1.min.js', 'https://cdn.pydata.org/bokeh/release/bokeh-compiler-0.11.1.min.js'];\n",
       "\n",
       "  var inline_js = [\n",
       "    function(Bokeh) {\n",
       "      Bokeh.set_log_level(\"info\");\n",
       "    },\n",
       "    \n",
       "    function(Bokeh) {\n",
       "      Bokeh.$(\"#eae1d5dc-cf49-4fca-af68-00e911c93b0c\").text(\"BokehJS successfully loaded\");\n",
       "    },\n",
       "    function(Bokeh) {\n",
       "      console.log(\"Bokeh: injecting CSS: https://cdn.pydata.org/bokeh/release/bokeh-0.11.1.min.css\");\n",
       "      Bokeh.embed.inject_css(\"https://cdn.pydata.org/bokeh/release/bokeh-0.11.1.min.css\");\n",
       "      console.log(\"Bokeh: injecting CSS: https://cdn.pydata.org/bokeh/release/bokeh-widgets-0.11.1.min.css\");\n",
       "      Bokeh.embed.inject_css(\"https://cdn.pydata.org/bokeh/release/bokeh-widgets-0.11.1.min.css\");\n",
       "    }\n",
       "  ];\n",
       "\n",
       "  function run_inline_js() {\n",
       "    for (var i = 0; i < inline_js.length; i++) {\n",
       "      inline_js[i](window.Bokeh);\n",
       "    }\n",
       "  }\n",
       "\n",
       "  if (window._bokeh_is_loading === 0) {\n",
       "    console.log(\"Bokeh: BokehJS loaded, going straight to plotting\");\n",
       "    run_inline_js();\n",
       "  } else {\n",
       "    load_libs(js_urls, function() {\n",
       "      console.log(\"Bokeh: BokehJS plotting callback run at\", now());\n",
       "      run_inline_js();\n",
       "    });\n",
       "  }\n",
       "}(this));"
      ]
     },
     "metadata": {},
     "output_type": "display_data"
    }
   ],
   "source": [
    "from bokeh.plotting import figure, show, output_file\n",
    "from bokeh.io import push_notebook, show, output_notebook\n",
    "from bokeh.plotting import figure\n",
    "from bokeh.charts import Bar\n",
    "output_notebook()"
   ]
  },
  {
   "cell_type": "code",
   "execution_count": 2,
   "metadata": {
    "collapsed": false
   },
   "outputs": [
    {
     "name": "stdout",
     "output_type": "stream",
     "text": [
      "  1. ACCT_ID\n",
      "\t<class 'int'>\n",
      "\tNulls: False\n",
      "\tMin: 112110616977376\n",
      "\tMax: 4611679791824819900\n",
      "\tSum: 22730670545637110906347\n",
      "\tMean: 2.2953317727594778e+18\n",
      "\tMedian: 2316664370354537529\n",
      "\tStandard Deviation: 1.333126148041693e+18\n",
      "\tUnique values: 9903\n",
      "  2. COUNTRY_CODE\n",
      "\t<class 'str'>\n",
      "\tNulls: False\n",
      "\tUnique values: 11\n",
      "\t5 most frequent values:\n",
      "\t\tUS:\t8010\n",
      "\t\tCA:\t1254\n",
      "\t\tBR:\t335\n",
      "\t\tMX:\t131\n",
      "\t\tAR:\t87\n",
      "\tMax length: 2\n",
      "  3. LANGUAGE_CODE\n",
      "\t<class 'str'>\n",
      "\tNulls: False\n",
      "\tValues: es, fr, en, pt\n",
      "  4. OPT_IN_FLAG\n",
      "\t<class 'int'>\n",
      "\tNulls: False\n",
      "\tValues: 0, 1\n",
      "\n",
      "Row count: 9903\n"
     ]
    }
   ],
   "source": [
    "!csvstat dim_acct.csv"
   ]
  },
  {
   "cell_type": "code",
   "execution_count": 3,
   "metadata": {
    "collapsed": false
   },
   "outputs": [
    {
     "name": "stdout",
     "output_type": "stream",
     "text": [
      "  1. sku\r\n",
      "\t<class 'int'>\r\n",
      "\tNulls: False\r\n",
      "\tMin: 24996\r\n",
      "\tMax: 76813\r\n",
      "\tSum: 47339896\r\n",
      "\tMean: 63886.49932523617\r\n",
      "\tMedian: 63589\r\n",
      "\tStandard Deviation: 8827.863736954238\r\n",
      "\tUnique values: 709\r\n",
      "\t5 most frequent values:\r\n",
      "\t\t73404:\t3\r\n",
      "\t\t56032:\t2\r\n",
      "\t\t59574:\t2\r\n",
      "\t\t73827:\t2\r\n",
      "\t\t73690:\t2\r\n",
      "  2. game_name\r\n",
      "\t<class 'str'>\r\n",
      "\tNulls: False\r\n",
      "\tValues: Fifa 15, Fifa 16, Destiny\r\n",
      "\r\n",
      "Row count: 741\r\n"
     ]
    }
   ],
   "source": [
    "!csvstat dim_product.csv"
   ]
  },
  {
   "cell_type": "code",
   "execution_count": 4,
   "metadata": {
    "collapsed": false
   },
   "outputs": [
    {
     "name": "stdout",
     "output_type": "stream",
     "text": [
      "  1. ACCT_ID\n",
      "\t<class 'int'>\n",
      "\tNulls: False\n",
      "\tMin: 112110616977376\n",
      "\tMax: 4611679791824819900\n",
      "\tSum: 22832397974228024195145\n",
      "\tMean: 2.2958670662873833e+18\n",
      "\tMedian: 2318601711805822924\n",
      "\tStandard Deviation: 1.3333984314874568e+18\n",
      "\tUnique values: 9903\n",
      "\t5 most frequent values:\n",
      "\t\t897924179274989253:\t2\n",
      "\t\t3974400860039657607:\t2\n",
      "\t\t3302592783285312504:\t2\n",
      "\t\t2316930479434432568:\t2\n",
      "\t\t603030439962872616:\t2\n",
      "  2. TRANSACTION_TIMESTAMP\n",
      "\t<class 'datetime.datetime'>\n",
      "\tNulls: False\n",
      "\tMin: 2015-10-18 00:00:00\n",
      "\tMax: 2015-11-16 16:24:00\n",
      "\tUnique values: 8469\n",
      "\t5 most frequent values:\n",
      "\t\t2015-10-18 00:00:00:\t6\n",
      "\t\t2015-10-18 00:50:00:\t4\n",
      "\t\t2015-11-16 01:30:00:\t4\n",
      "\t\t2015-11-06 01:53:00:\t4\n",
      "\t\t2015-10-29 20:54:00:\t4\n",
      "  3. TRANSACTION_VALUE\n",
      "\t<class 'float'>\n",
      "\tNulls: False\n",
      "\tMin: 0.36567\n",
      "\tMax: 149.99\n",
      "\tSum: 189099.6233399983\n",
      "\tMean: 19.01454231674191\n",
      "\tMedian: 9.99\n",
      "\tStandard Deviation: 22.599633708954638\n",
      "\tUnique values: 385\n",
      "\t5 most frequent values:\n",
      "\t\t9.99:\t1122\n",
      "\t\t1.99:\t990\n",
      "\t\t19.99:\t951\n",
      "\t\t59.99:\t742\n",
      "\t\t4.99:\t731\n",
      "  4. SKU\n",
      "\t<class 'int'>\n",
      "\tNulls: False\n",
      "\tMin: 21\n",
      "\tMax: 77067\n",
      "\tSum: 598997067\n",
      "\tMean: 60230.977073906484\n",
      "\tMedian: 69549\n",
      "\tStandard Deviation: 20198.105056513952\n",
      "\tUnique values: 1741\n",
      "\t5 most frequent values:\n",
      "\t\t35589:\t413\n",
      "\t\t35514:\t379\n",
      "\t\t74475:\t301\n",
      "\t\t35590:\t299\n",
      "\t\t73123:\t256\n",
      "\n",
      "Row count: 9945\n"
     ]
    }
   ],
   "source": [
    "!csvstat fct_transaction.csv"
   ]
  },
  {
   "cell_type": "markdown",
   "metadata": {},
   "source": [
    "# PART 2 - Creating Db (using PostgreSQL)\n",
    "\n",
    "### Platforms: PostgreSQL, Python 3\n",
    "\n",
    "#### Steps:\n",
    "    1. Load SQL to Kernel and create a localhost postgresql server\n",
    "       -Any server can be used (mySQL, sqlite, etc.)\n",
    "       -I personally prefer PostgreSQL due to its object oriented structure \n",
    "    2. Create TABLES and populate with respective csv files\n",
    "    3. Run sanity check to see if all data has loaded appropriately onto the local server."
   ]
  },
  {
   "cell_type": "code",
   "execution_count": 5,
   "metadata": {
    "collapsed": false
   },
   "outputs": [
    {
     "name": "stderr",
     "output_type": "stream",
     "text": [
      "/opt/conda/lib/python3.5/site-packages/IPython/config.py:13: ShimWarning: The `IPython.config` package has been deprecated. You should import from traitlets.config instead.\n",
      "  \"You should import from traitlets.config instead.\", ShimWarning)\n",
      "/opt/conda/lib/python3.5/site-packages/IPython/utils/traitlets.py:5: UserWarning: IPython.utils.traitlets has moved to a top-level traitlets package.\n",
      "  warn(\"IPython.utils.traitlets has moved to a top-level traitlets package.\")\n"
     ]
    }
   ],
   "source": [
    "%load_ext sql"
   ]
  },
  {
   "cell_type": "code",
   "execution_count": 6,
   "metadata": {
    "collapsed": false
   },
   "outputs": [
    {
     "name": "stdout",
     "output_type": "stream",
     "text": [
      "[sudo] password for jovyan: Restarting PostgreSQL 9.5 database server: main.\n"
     ]
    }
   ],
   "source": [
    "!echo 'redspot' | sudo -S service postgresql restart"
   ]
  },
  {
   "cell_type": "code",
   "execution_count": 7,
   "metadata": {
    "collapsed": false
   },
   "outputs": [],
   "source": [
    "!createdb -U dbuser CRM"
   ]
  },
  {
   "cell_type": "code",
   "execution_count": 8,
   "metadata": {
    "collapsed": false
   },
   "outputs": [
    {
     "data": {
      "text/plain": [
       "'Connected: dbuser@CRM'"
      ]
     },
     "execution_count": 8,
     "metadata": {},
     "output_type": "execute_result"
    }
   ],
   "source": [
    "%sql postgresql://dbuser@localhost:5432/CRM"
   ]
  },
  {
   "cell_type": "markdown",
   "metadata": {},
   "source": [
    "## 2a. Account TABLE"
   ]
  },
  {
   "cell_type": "code",
   "execution_count": 9,
   "metadata": {
    "collapsed": false
   },
   "outputs": [
    {
     "name": "stdout",
     "output_type": "stream",
     "text": [
      "Done.\n",
      "Done.\n"
     ]
    },
    {
     "data": {
      "text/plain": [
       "[]"
      ]
     },
     "execution_count": 9,
     "metadata": {},
     "output_type": "execute_result"
    }
   ],
   "source": [
    "%%sql\n",
    "DROP TABLE IF EXISTS account;\n",
    "CREATE TABLE account (\n",
    "    ACCT_ID FLOAT,\n",
    "    COUNTRY_CODE VARCHAR(2),\n",
    "    LANGUAGE_CODE VARCHAR(2),\n",
    "    OPT_IN_FLAG INT,\n",
    "    PRIMARY KEY (ACCT_ID)\n",
    "    )"
   ]
  },
  {
   "cell_type": "code",
   "execution_count": 10,
   "metadata": {
    "collapsed": false
   },
   "outputs": [
    {
     "name": "stdout",
     "output_type": "stream",
     "text": [
      "/home/jovyan/work\r\n"
     ]
    }
   ],
   "source": [
    "!pwd"
   ]
  },
  {
   "cell_type": "code",
   "execution_count": 11,
   "metadata": {
    "collapsed": false
   },
   "outputs": [
    {
     "name": "stdout",
     "output_type": "stream",
     "text": [
      "9903 rows affected.\n"
     ]
    },
    {
     "data": {
      "text/plain": [
       "[]"
      ]
     },
     "execution_count": 11,
     "metadata": {},
     "output_type": "execute_result"
    }
   ],
   "source": [
    "%%sql\n",
    "COPY account FROM '/home/jovyan/work/dim_acct.csv'\n",
    "CSV\n",
    "HEADER\n",
    "QUOTE '\"'\n",
    "DELIMITER ',';"
   ]
  },
  {
   "cell_type": "code",
   "execution_count": 12,
   "metadata": {
    "collapsed": false
   },
   "outputs": [
    {
     "name": "stdout",
     "output_type": "stream",
     "text": [
      "1 rows affected.\n"
     ]
    },
    {
     "data": {
      "text/html": [
       "<table>\n",
       "    <tr>\n",
       "        <th>count</th>\n",
       "    </tr>\n",
       "    <tr>\n",
       "        <td>9903</td>\n",
       "    </tr>\n",
       "</table>"
      ],
      "text/plain": [
       "[(9903,)]"
      ]
     },
     "execution_count": 12,
     "metadata": {},
     "output_type": "execute_result"
    }
   ],
   "source": [
    "%%sql\n",
    "SELECT count(account.ACCT_ID) FROM account;"
   ]
  },
  {
   "cell_type": "code",
   "execution_count": 13,
   "metadata": {
    "collapsed": false
   },
   "outputs": [
    {
     "name": "stdout",
     "output_type": "stream",
     "text": [
      "1 rows affected.\n"
     ]
    },
    {
     "data": {
      "text/html": [
       "<table>\n",
       "    <tr>\n",
       "        <th>count</th>\n",
       "    </tr>\n",
       "    <tr>\n",
       "        <td>9903</td>\n",
       "    </tr>\n",
       "</table>"
      ],
      "text/plain": [
       "[(9903,)]"
      ]
     },
     "execution_count": 13,
     "metadata": {},
     "output_type": "execute_result"
    }
   ],
   "source": [
    "%%sql\n",
    "SELECT COUNT(DISTINCT(ACCT_ID)) from account"
   ]
  },
  {
   "cell_type": "markdown",
   "metadata": {},
   "source": [
    "##### Sanity Check:\n",
    "##### The DISTINCT query is to check if all account_id's are unique. Since that is the case, we can safely use that as the PRIMARY KEY. \n",
    "If such wasn't the case, we would have gotten an error during table initialization also. However, this is a good sanity check\n",
    "\n",
    "##### Basic data exploration:\n",
    "Let's see where most of our customers are located, what language they speak and whether they have opted-in to receive marketing offers."
   ]
  },
  {
   "cell_type": "code",
   "execution_count": 14,
   "metadata": {
    "collapsed": false,
    "scrolled": true
   },
   "outputs": [
    {
     "name": "stdout",
     "output_type": "stream",
     "text": [
      "11 rows affected.\n"
     ]
    },
    {
     "data": {
      "text/html": [
       "<table>\n",
       "    <tr>\n",
       "        <th>country</th>\n",
       "        <th>count</th>\n",
       "    </tr>\n",
       "    <tr>\n",
       "        <td>US</td>\n",
       "        <td>8010</td>\n",
       "    </tr>\n",
       "    <tr>\n",
       "        <td>CA</td>\n",
       "        <td>1254</td>\n",
       "    </tr>\n",
       "    <tr>\n",
       "        <td>BR</td>\n",
       "        <td>335</td>\n",
       "    </tr>\n",
       "    <tr>\n",
       "        <td>MX</td>\n",
       "        <td>131</td>\n",
       "    </tr>\n",
       "    <tr>\n",
       "        <td>AR</td>\n",
       "        <td>87</td>\n",
       "    </tr>\n",
       "    <tr>\n",
       "        <td>CL</td>\n",
       "        <td>51</td>\n",
       "    </tr>\n",
       "    <tr>\n",
       "        <td>CO</td>\n",
       "        <td>14</td>\n",
       "    </tr>\n",
       "    <tr>\n",
       "        <td>PE</td>\n",
       "        <td>12</td>\n",
       "    </tr>\n",
       "    <tr>\n",
       "        <td>PA</td>\n",
       "        <td>4</td>\n",
       "    </tr>\n",
       "    <tr>\n",
       "        <td>EC</td>\n",
       "        <td>3</td>\n",
       "    </tr>\n",
       "    <tr>\n",
       "        <td>CR</td>\n",
       "        <td>2</td>\n",
       "    </tr>\n",
       "</table>"
      ],
      "text/plain": [
       "[('US', 8010),\n",
       " ('CA', 1254),\n",
       " ('BR', 335),\n",
       " ('MX', 131),\n",
       " ('AR', 87),\n",
       " ('CL', 51),\n",
       " ('CO', 14),\n",
       " ('PE', 12),\n",
       " ('PA', 4),\n",
       " ('EC', 3),\n",
       " ('CR', 2)]"
      ]
     },
     "execution_count": 14,
     "metadata": {},
     "output_type": "execute_result"
    }
   ],
   "source": [
    "%%sql \n",
    "SELECT COUNTRY_CODE as Country, COUNT(COUNTRY_CODE) as Count\n",
    "FROM account\n",
    "GROUP BY Country\n",
    "ORDER BY count DESC;"
   ]
  },
  {
   "cell_type": "code",
   "execution_count": 15,
   "metadata": {
    "collapsed": false
   },
   "outputs": [
    {
     "name": "stderr",
     "output_type": "stream",
     "text": [
      "/opt/conda/lib/python3.5/site-packages/matplotlib/font_manager.py:273: UserWarning: Matplotlib is building the font cache using fc-list. This may take a moment.\n",
      "  warnings.warn('Matplotlib is building the font cache using fc-list. This may take a moment.')\n",
      "/opt/conda/lib/python3.5/site-packages/matplotlib/font_manager.py:273: UserWarning: Matplotlib is building the font cache using fc-list. This may take a moment.\n",
      "  warnings.warn('Matplotlib is building the font cache using fc-list. This may take a moment.')\n"
     ]
    },
    {
     "name": "stdout",
     "output_type": "stream",
     "text": [
      "Account Distribution by Country\r\n"
     ]
    },
    {
     "data": {
      "image/png": "[encoded data removed]",
      "text/plain": [
       "<matplotlib.figure.Figure at 0x7f4240f2a080>"
      ]
     },
     "metadata": {},
     "output_type": "display_data"
    }
   ],
   "source": [
    "from pandas import DataFrame\n",
    "import matplotlib\n",
    "%matplotlib inline \n",
    "\n",
    "q1_results = _\n",
    "q1_results.bar()\n",
    "!echo 'Account Distribution by Country'"
   ]
  },
  {
   "cell_type": "markdown",
   "metadata": {},
   "source": [
    "###### So most of our customer base in the US"
   ]
  },
  {
   "cell_type": "code",
   "execution_count": 16,
   "metadata": {
    "collapsed": false
   },
   "outputs": [
    {
     "name": "stdout",
     "output_type": "stream",
     "text": [
      "1 rows affected.\n"
     ]
    },
    {
     "data": {
      "text/html": [
       "<table>\n",
       "    <tr>\n",
       "        <th>language</th>\n",
       "        <th>count</th>\n",
       "    </tr>\n",
       "    <tr>\n",
       "        <td>en</td>\n",
       "        <td>8010</td>\n",
       "    </tr>\n",
       "</table>"
      ],
      "text/plain": [
       "[('en', 8010)]"
      ]
     },
     "execution_count": 16,
     "metadata": {},
     "output_type": "execute_result"
    }
   ],
   "source": [
    "%%sql \n",
    "SELECT LANGUAGE_CODE as Language, COUNT(LANGUAGE_CODE) as Count\n",
    "FROM account\n",
    "WHERE COUNTRY_CODE = 'US'\n",
    "GROUP BY Language\n",
    "ORDER BY count DESC;"
   ]
  },
  {
   "cell_type": "markdown",
   "metadata": {},
   "source": [
    "###### And NOT surprisingly they all speak English"
   ]
  },
  {
   "cell_type": "code",
   "execution_count": 17,
   "metadata": {
    "collapsed": false
   },
   "outputs": [
    {
     "name": "stdout",
     "output_type": "stream",
     "text": [
      "2 rows affected.\n"
     ]
    },
    {
     "data": {
      "text/html": [
       "<table>\n",
       "    <tr>\n",
       "        <th>optin</th>\n",
       "        <th>count</th>\n",
       "    </tr>\n",
       "    <tr>\n",
       "        <td>1</td>\n",
       "        <td>4150</td>\n",
       "    </tr>\n",
       "    <tr>\n",
       "        <td>0</td>\n",
       "        <td>3860</td>\n",
       "    </tr>\n",
       "</table>"
      ],
      "text/plain": [
       "[(1, 4150), (0, 3860)]"
      ]
     },
     "execution_count": 17,
     "metadata": {},
     "output_type": "execute_result"
    }
   ],
   "source": [
    "%%sql \n",
    "SELECT OPT_IN_FLAG as OptIn, COUNT(OPT_IN_FLAG) as Count\n",
    "FROM account\n",
    "WHERE COUNTRY_CODE = 'US'\n",
    "AND LANGUAGE_CODE = 'en'\n",
    "GROUP BY OptIn\n",
    "ORDER BY count DESC;"
   ]
  },
  {
   "cell_type": "code",
   "execution_count": 18,
   "metadata": {
    "collapsed": false
   },
   "outputs": [
    {
     "data": {
      "image/png": "[encoded data removed]",
      "text/plain": [
       "<matplotlib.figure.Figure at 0x7f4240c8e470>"
      ]
     },
     "metadata": {},
     "output_type": "display_data"
    }
   ],
   "source": [
    "q2= _\n",
    "df=q2.DataFrame()\n",
    "\n",
    "import matplotlib.pyplot as plt\n",
    " \n",
    "# Data to plot\n",
    "labels = 'Selected', 'Not Selected'\n",
    "sizes = df['count']\n",
    "colors = ['yellowgreen', 'lightcoral']\n",
    "explode = (0.1, 0)  # explode 1st slice\n",
    " \n",
    "# Plot\n",
    "plt.pie(sizes, explode=explode, labels=labels, colors=colors,\n",
    "        autopct='%1.1f%%', shadow=True, startangle=140)\n",
    " \n",
    "plt.axis('equal')\n",
    "plt.show()"
   ]
  },
  {
   "cell_type": "markdown",
   "metadata": {},
   "source": [
    "##### And about half of our customers have chosen the option of 'Opt-in' marketing.*\n",
    "*Assumption: The sample data in accounts in representative of actual population"
   ]
  },
  {
   "cell_type": "code",
   "execution_count": 19,
   "metadata": {
    "collapsed": false
   },
   "outputs": [
    {
     "name": "stdout",
     "output_type": "stream",
     "text": [
      "1 rows affected.\n"
     ]
    },
    {
     "data": {
      "text/html": [
       "<table>\n",
       "    <tr>\n",
       "        <th>count</th>\n",
       "    </tr>\n",
       "    <tr>\n",
       "        <td>4150</td>\n",
       "    </tr>\n",
       "</table>"
      ],
      "text/plain": [
       "[(4150,)]"
      ]
     },
     "execution_count": 19,
     "metadata": {},
     "output_type": "execute_result"
    }
   ],
   "source": [
    "%%sql\n",
    "SELECT COUNT(DISTINCT(ACCT_ID))\n",
    "FROM account\n",
    "WHERE COUNTRY_CODE = 'US'\n",
    "AND LANGUAGE_CODE = 'en'\n",
    "AND OPT_IN_FLAG = 1;"
   ]
  },
  {
   "cell_type": "markdown",
   "metadata": {},
   "source": [
    "##### This is the number of accounts that follow the baseline criteria that is requested"
   ]
  },
  {
   "cell_type": "markdown",
   "metadata": {},
   "source": [
    "## 2b. Product TABLE"
   ]
  },
  {
   "cell_type": "code",
   "execution_count": 20,
   "metadata": {
    "collapsed": false
   },
   "outputs": [
    {
     "name": "stdout",
     "output_type": "stream",
     "text": [
      "Done.\n",
      "Done.\n"
     ]
    },
    {
     "data": {
      "text/plain": [
       "[]"
      ]
     },
     "execution_count": 20,
     "metadata": {},
     "output_type": "execute_result"
    }
   ],
   "source": [
    "%%sql\n",
    "DROP TABLE IF EXISTS product;\n",
    "CREATE TABLE product (\n",
    "    SKU INT,\n",
    "    GAME_NAME VARCHAR(10)\n",
    "    )"
   ]
  },
  {
   "cell_type": "code",
   "execution_count": 21,
   "metadata": {
    "collapsed": false
   },
   "outputs": [
    {
     "name": "stdout",
     "output_type": "stream",
     "text": [
      "741 rows affected.\n"
     ]
    },
    {
     "data": {
      "text/plain": [
       "[]"
      ]
     },
     "execution_count": 21,
     "metadata": {},
     "output_type": "execute_result"
    }
   ],
   "source": [
    "%%sql\n",
    "COPY product FROM '/home/jovyan/work/dim_product.csv'\n",
    "CSV\n",
    "HEADER\n",
    "QUOTE '\"'\n",
    "DELIMITER ',';"
   ]
  },
  {
   "cell_type": "code",
   "execution_count": 22,
   "metadata": {
    "collapsed": false
   },
   "outputs": [
    {
     "name": "stdout",
     "output_type": "stream",
     "text": [
      "1 rows affected.\n"
     ]
    },
    {
     "data": {
      "text/html": [
       "<table>\n",
       "    <tr>\n",
       "        <th>count</th>\n",
       "    </tr>\n",
       "    <tr>\n",
       "        <td>741</td>\n",
       "    </tr>\n",
       "</table>"
      ],
      "text/plain": [
       "[(741,)]"
      ]
     },
     "execution_count": 22,
     "metadata": {},
     "output_type": "execute_result"
    }
   ],
   "source": [
    "%%sql\n",
    "SELECT count(product.SKU) FROM product;"
   ]
  },
  {
   "cell_type": "code",
   "execution_count": 23,
   "metadata": {
    "collapsed": false
   },
   "outputs": [
    {
     "name": "stdout",
     "output_type": "stream",
     "text": [
      "1 rows affected.\n"
     ]
    },
    {
     "data": {
      "text/html": [
       "<table>\n",
       "    <tr>\n",
       "        <th>count</th>\n",
       "    </tr>\n",
       "    <tr>\n",
       "        <td>709</td>\n",
       "    </tr>\n",
       "</table>"
      ],
      "text/plain": [
       "[(709,)]"
      ]
     },
     "execution_count": 23,
     "metadata": {},
     "output_type": "execute_result"
    }
   ],
   "source": [
    "%%sql\n",
    "SELECT COUNT(DISTINCT(SKU)) from product"
   ]
  },
  {
   "cell_type": "markdown",
   "metadata": {},
   "source": [
    "##### Clrearly not all SKU's are unique and as such cannot be used as a PRIMARY KEY.\n",
    "*Assumption: Here my role is to do a query and not change the table structre. I would communicate this to the Data Engineer / ETL engineer, to have them add a serial unique identifier to the product table. In this particular case, the fact table is already pre-populated but were it not we would need to populate using Primary and Foreign Keys."
   ]
  },
  {
   "cell_type": "code",
   "execution_count": 24,
   "metadata": {
    "collapsed": false
   },
   "outputs": [
    {
     "name": "stdout",
     "output_type": "stream",
     "text": [
      "5 rows affected.\n"
     ]
    },
    {
     "data": {
      "text/html": [
       "<table>\n",
       "    <tr>\n",
       "        <th>sku</th>\n",
       "        <th>game_name</th>\n",
       "    </tr>\n",
       "    <tr>\n",
       "        <td>55813</td>\n",
       "        <td>Fifa 15</td>\n",
       "    </tr>\n",
       "    <tr>\n",
       "        <td>58624</td>\n",
       "        <td>Fifa 15</td>\n",
       "    </tr>\n",
       "    <tr>\n",
       "        <td>59574</td>\n",
       "        <td>Destiny</td>\n",
       "    </tr>\n",
       "    <tr>\n",
       "        <td>63145</td>\n",
       "        <td>Destiny</td>\n",
       "    </tr>\n",
       "    <tr>\n",
       "        <td>68179</td>\n",
       "        <td>Destiny</td>\n",
       "    </tr>\n",
       "</table>"
      ],
      "text/plain": [
       "[(55813, 'Fifa 15'),\n",
       " (58624, 'Fifa 15'),\n",
       " (59574, 'Destiny'),\n",
       " (63145, 'Destiny'),\n",
       " (68179, 'Destiny')]"
      ]
     },
     "execution_count": 24,
     "metadata": {},
     "output_type": "execute_result"
    }
   ],
   "source": [
    "%%sql \n",
    "SELECT * \n",
    "FROM product\n",
    "LIMIT 5;"
   ]
  },
  {
   "cell_type": "code",
   "execution_count": 25,
   "metadata": {
    "collapsed": false
   },
   "outputs": [
    {
     "name": "stdout",
     "output_type": "stream",
     "text": [
      "3 rows affected.\n"
     ]
    },
    {
     "data": {
      "text/html": [
       "<table>\n",
       "    <tr>\n",
       "        <th>game_name</th>\n",
       "        <th>count</th>\n",
       "    </tr>\n",
       "    <tr>\n",
       "        <td>Destiny</td>\n",
       "        <td>402</td>\n",
       "    </tr>\n",
       "    <tr>\n",
       "        <td>Fifa 15</td>\n",
       "        <td>235</td>\n",
       "    </tr>\n",
       "    <tr>\n",
       "        <td>Fifa 16</td>\n",
       "        <td>104</td>\n",
       "    </tr>\n",
       "</table>"
      ],
      "text/plain": [
       "[('Destiny', 402), ('Fifa 15', 235), ('Fifa 16', 104)]"
      ]
     },
     "execution_count": 25,
     "metadata": {},
     "output_type": "execute_result"
    }
   ],
   "source": [
    "%%sql \n",
    "SELECT GAME_NAME, COUNT(GAME_NAME) as Count\n",
    "FROM product\n",
    "GROUP BY GAME_NAME\n",
    "ORDER BY Count DESC;"
   ]
  },
  {
   "cell_type": "code",
   "execution_count": 26,
   "metadata": {
    "collapsed": false
   },
   "outputs": [
    {
     "data": {
      "text/html": [
       "\n",
       "\n",
       "    <div class=\"plotdiv\" id=\"e957b3ec-1d1a-473c-b947-6d4e7c931ceb\"></div>\n",
       "<script type=\"text/javascript\">\n",
       "  \n",
       "  (function(global) {\n",
       "    function now() {\n",
       "      return new Date();\n",
       "    }\n",
       "  \n",
       "    if (typeof (window._bokeh_onload_callbacks) === \"undefined\") {\n",
       "      window._bokeh_onload_callbacks = [];\n",
       "    }\n",
       "  \n",
       "    function run_callbacks() {\n",
       "      window._bokeh_onload_callbacks.forEach(function(callback) { callback() });\n",
       "      delete window._bokeh_onload_callbacks\n",
       "      console.info(\"Bokeh: all callbacks have finished\");\n",
       "    }\n",
       "  \n",
       "    function load_libs(js_urls, callback) {\n",
       "      window._bokeh_onload_callbacks.push(callback);\n",
       "      if (window._bokeh_is_loading > 0) {\n",
       "        console.log(\"Bokeh: BokehJS is being loaded, scheduling callback at\", now());\n",
       "        return null;\n",
       "      }\n",
       "      if (js_urls == null || js_urls.length === 0) {\n",
       "        run_callbacks();\n",
       "        return null;\n",
       "      }\n",
       "      console.log(\"Bokeh: BokehJS not loaded, scheduling load and callback at\", now());\n",
       "      window._bokeh_is_loading = js_urls.length;\n",
       "      for (var i = 0; i < js_urls.length; i++) {\n",
       "        var url = js_urls[i];\n",
       "        var s = document.createElement('script');\n",
       "        s.src = url;\n",
       "        s.async = false;\n",
       "        s.onreadystatechange = s.onload = function() {\n",
       "          window._bokeh_is_loading--;\n",
       "          if (window._bokeh_is_loading === 0) {\n",
       "            console.log(\"Bokeh: all BokehJS libraries loaded\");\n",
       "            run_callbacks()\n",
       "          }\n",
       "        };\n",
       "        s.onerror = function() {\n",
       "          console.warn(\"failed to load library \" + url);\n",
       "        };\n",
       "        console.log(\"Bokeh: injecting script tag for BokehJS library: \", url);\n",
       "        document.getElementsByTagName(\"head\")[0].appendChild(s);\n",
       "      }\n",
       "    };var element = document.getElementById(\"e957b3ec-1d1a-473c-b947-6d4e7c931ceb\");\n",
       "    if (element == null) {\n",
       "      console.log(\"Bokeh: ERROR: autoload.js configured with elementid 'e957b3ec-1d1a-473c-b947-6d4e7c931ceb' but no matching script tag was found. \")\n",
       "      return false;\n",
       "    }\n",
       "  \n",
       "    var js_urls = [];\n",
       "  \n",
       "    var inline_js = [\n",
       "      function(Bokeh) {\n",
       "        Bokeh.$(function() {\n",
       "            var docs_json = {\"254654ad-fb1f-4977-9500-f566502fa825\":{\"roots\":{\"references\":[{\"attributes\":{\"plot\":{\"id\":\"a17c7093-a5bb-43cd-b57f-65830fe53ed8\",\"subtype\":\"Chart\",\"type\":\"Plot\"}},\"id\":\"f9cb2542-5a2c-4dd2-96a8-02a720ea3bcd\",\"type\":\"WheelZoomTool\"},{\"attributes\":{\"axis_label\":\"Game_Name\",\"formatter\":{\"id\":\"bd2f1acf-1200-468b-b7c6-3f39d5981edc\",\"type\":\"CategoricalTickFormatter\"},\"major_label_orientation\":0.7853981633974483,\"plot\":{\"id\":\"a17c7093-a5bb-43cd-b57f-65830fe53ed8\",\"subtype\":\"Chart\",\"type\":\"Plot\"},\"ticker\":{\"id\":\"c8430e89-9d25-4ef5-b3fc-699b580293e9\",\"type\":\"CategoricalTicker\"}},\"id\":\"b87d4271-bfc1-47dc-8b77-2fc993e09d1c\",\"type\":\"CategoricalAxis\"},{\"attributes\":{\"callback\":null,\"end\":422.1},\"id\":\"4d301dbb-8fd6-4689-8adf-0d5f31b8d250\",\"type\":\"Range1d\"},{\"attributes\":{\"overlay\":{\"id\":\"9f946ef5-e184-4626-b432-4ac3f3833dd8\",\"type\":\"BoxAnnotation\"},\"plot\":{\"id\":\"a17c7093-a5bb-43cd-b57f-65830fe53ed8\",\"subtype\":\"Chart\",\"type\":\"Plot\"}},\"id\":\"1206d9a8-c465-42a8-a0f6-8f21e1413ff6\",\"type\":\"BoxZoomTool\"},{\"attributes\":{\"data_source\":{\"id\":\"dce48f99-2a43-498d-a2f3-03abab587a44\",\"type\":\"ColumnDataSource\"},\"glyph\":{\"id\":\"700a926c-58f9-4100-8e42-ad05ae3d9007\",\"type\":\"Rect\"},\"hover_glyph\":null,\"nonselection_glyph\":null,\"selection_glyph\":null},\"id\":\"e0711e7e-7506-487b-b2fa-8416751cf82b\",\"type\":\"GlyphRenderer\"},{\"attributes\":{\"callback\":null,\"factors\":[\"Destiny\",\"Fifa 15\",\"Fifa 16\"]},\"id\":\"13f149a6-89b2-4c65-b193-f67f7541d37b\",\"type\":\"FactorRange\"},{\"attributes\":{\"fill_alpha\":{\"field\":\"fill_alpha\"},\"fill_color\":{\"field\":\"color\"},\"height\":{\"field\":\"height\",\"units\":\"data\"},\"line_color\":{\"field\":\"line_color\"},\"width\":{\"field\":\"width\",\"units\":\"data\"},\"x\":{\"field\":\"x\"},\"y\":{\"field\":\"y\"}},\"id\":\"4478c426-6097-4f39-974b-768bb86e54cd\",\"type\":\"Rect\"},{\"attributes\":{\"plot\":{\"id\":\"a17c7093-a5bb-43cd-b57f-65830fe53ed8\",\"subtype\":\"Chart\",\"type\":\"Plot\"}},\"id\":\"ccdda7f8-fab2-418d-8a94-40ad2b1f3eac\",\"type\":\"ResetTool\"},{\"attributes\":{\"fill_alpha\":{\"field\":\"fill_alpha\"},\"fill_color\":{\"field\":\"color\"},\"height\":{\"field\":\"height\",\"units\":\"data\"},\"line_color\":{\"field\":\"line_color\"},\"width\":{\"field\":\"width\",\"units\":\"data\"},\"x\":{\"field\":\"x\"},\"y\":{\"field\":\"y\"}},\"id\":\"700a926c-58f9-4100-8e42-ad05ae3d9007\",\"type\":\"Rect\"},{\"attributes\":{\"below\":[{\"id\":\"b87d4271-bfc1-47dc-8b77-2fc993e09d1c\",\"type\":\"CategoricalAxis\"}],\"left\":[{\"id\":\"8b808248-777c-470f-9642-6b60c5a95afe\",\"type\":\"LinearAxis\"}],\"legend\":false,\"plot_height\":400,\"plot_width\":400,\"renderers\":[{\"id\":\"9f946ef5-e184-4626-b432-4ac3f3833dd8\",\"type\":\"BoxAnnotation\"},{\"id\":\"f9d8b7e7-01e8-46f4-94ff-8035b6ce2cd4\",\"type\":\"GlyphRenderer\"},{\"id\":\"8141eb5a-56cd-4216-a9fa-349e3c4602c9\",\"type\":\"GlyphRenderer\"},{\"id\":\"e0711e7e-7506-487b-b2fa-8416751cf82b\",\"type\":\"GlyphRenderer\"},{\"id\":\"b87d4271-bfc1-47dc-8b77-2fc993e09d1c\",\"type\":\"CategoricalAxis\"},{\"id\":\"8b808248-777c-470f-9642-6b60c5a95afe\",\"type\":\"LinearAxis\"},{\"id\":\"f315f138-d5e9-4e61-9a94-6ac787e38687\",\"type\":\"Grid\"}],\"title\":\"Game Sales Distribution\",\"title_text_font_size\":{\"value\":\"14pt\"},\"tool_events\":{\"id\":\"28258246-8c54-4ddd-97d8-062df8c9ed90\",\"type\":\"ToolEvents\"},\"tools\":[{\"id\":\"96f53993-49ae-4706-ba4c-ea2c155ae7c4\",\"type\":\"PanTool\"},{\"id\":\"f9cb2542-5a2c-4dd2-96a8-02a720ea3bcd\",\"type\":\"WheelZoomTool\"},{\"id\":\"1206d9a8-c465-42a8-a0f6-8f21e1413ff6\",\"type\":\"BoxZoomTool\"},{\"id\":\"c305f12f-1823-454a-916f-cc0d676e7b8a\",\"type\":\"PreviewSaveTool\"},{\"id\":\"9d8d7b14-9bf3-4daa-9a60-166dc7629274\",\"type\":\"ResizeTool\"},{\"id\":\"ccdda7f8-fab2-418d-8a94-40ad2b1f3eac\",\"type\":\"ResetTool\"},{\"id\":\"c2ebaee1-aac2-42a7-a161-93eeecc5160f\",\"type\":\"HelpTool\"}],\"x_mapper_type\":\"auto\",\"x_range\":{\"id\":\"13f149a6-89b2-4c65-b193-f67f7541d37b\",\"type\":\"FactorRange\"},\"xgrid\":false,\"xscale\":\"auto\",\"y_mapper_type\":\"auto\",\"y_range\":{\"id\":\"4d301dbb-8fd6-4689-8adf-0d5f31b8d250\",\"type\":\"Range1d\"},\"yscale\":\"auto\"},\"id\":\"a17c7093-a5bb-43cd-b57f-65830fe53ed8\",\"subtype\":\"Chart\",\"type\":\"Plot\"},{\"attributes\":{\"callback\":null,\"column_names\":[\"fill_alpha\",\"color\",\"y\",\"line_color\",\"width\",\"x\",\"height\",\"line_alpha\"],\"data\":{\"chart_index\":[{\"game_name\":\"Fifa 16\"}],\"color\":[\"#f22c40\"],\"fill_alpha\":[0.8],\"game_name\":[\"Fifa 16\"],\"height\":[104.0],\"line_alpha\":[1.0],\"line_color\":[\"white\"],\"width\":[0.8],\"x\":[\"Fifa 16\"],\"y\":[52.0]}},\"id\":\"dce48f99-2a43-498d-a2f3-03abab587a44\",\"type\":\"ColumnDataSource\"},{\"attributes\":{\"plot\":{\"id\":\"a17c7093-a5bb-43cd-b57f-65830fe53ed8\",\"subtype\":\"Chart\",\"type\":\"Plot\"}},\"id\":\"96f53993-49ae-4706-ba4c-ea2c155ae7c4\",\"type\":\"PanTool\"},{\"attributes\":{},\"id\":\"8a3ecbea-bdcb-4fe6-a12d-1a4a008dd7e1\",\"type\":\"BasicTicker\"},{\"attributes\":{\"plot\":{\"id\":\"a17c7093-a5bb-43cd-b57f-65830fe53ed8\",\"subtype\":\"Chart\",\"type\":\"Plot\"}},\"id\":\"c2ebaee1-aac2-42a7-a161-93eeecc5160f\",\"type\":\"HelpTool\"},{\"attributes\":{\"plot\":{\"id\":\"a17c7093-a5bb-43cd-b57f-65830fe53ed8\",\"subtype\":\"Chart\",\"type\":\"Plot\"}},\"id\":\"9d8d7b14-9bf3-4daa-9a60-166dc7629274\",\"type\":\"ResizeTool\"},{\"attributes\":{\"fill_alpha\":{\"field\":\"fill_alpha\"},\"fill_color\":{\"field\":\"color\"},\"height\":{\"field\":\"height\",\"units\":\"data\"},\"line_color\":{\"field\":\"line_color\"},\"width\":{\"field\":\"width\",\"units\":\"data\"},\"x\":{\"field\":\"x\"},\"y\":{\"field\":\"y\"}},\"id\":\"0be95324-b0cd-4a70-92d4-b8b8ddfd592b\",\"type\":\"Rect\"},{\"attributes\":{},\"id\":\"bd2f1acf-1200-468b-b7c6-3f39d5981edc\",\"type\":\"CategoricalTickFormatter\"},{\"attributes\":{\"axis_label\":\"Count of Sales\",\"formatter\":{\"id\":\"cb21353a-273d-4ee2-8df6-5c89ab80f604\",\"type\":\"BasicTickFormatter\"},\"plot\":{\"id\":\"a17c7093-a5bb-43cd-b57f-65830fe53ed8\",\"subtype\":\"Chart\",\"type\":\"Plot\"},\"ticker\":{\"id\":\"8a3ecbea-bdcb-4fe6-a12d-1a4a008dd7e1\",\"type\":\"BasicTicker\"}},\"id\":\"8b808248-777c-470f-9642-6b60c5a95afe\",\"type\":\"LinearAxis\"},{\"attributes\":{\"plot\":{\"id\":\"a17c7093-a5bb-43cd-b57f-65830fe53ed8\",\"subtype\":\"Chart\",\"type\":\"Plot\"}},\"id\":\"c305f12f-1823-454a-916f-cc0d676e7b8a\",\"type\":\"PreviewSaveTool\"},{\"attributes\":{\"dimension\":1,\"plot\":{\"id\":\"a17c7093-a5bb-43cd-b57f-65830fe53ed8\",\"subtype\":\"Chart\",\"type\":\"Plot\"},\"ticker\":{\"id\":\"8a3ecbea-bdcb-4fe6-a12d-1a4a008dd7e1\",\"type\":\"BasicTicker\"}},\"id\":\"f315f138-d5e9-4e61-9a94-6ac787e38687\",\"type\":\"Grid\"},{\"attributes\":{},\"id\":\"cb21353a-273d-4ee2-8df6-5c89ab80f604\",\"type\":\"BasicTickFormatter\"},{\"attributes\":{},\"id\":\"28258246-8c54-4ddd-97d8-062df8c9ed90\",\"type\":\"ToolEvents\"},{\"attributes\":{\"bottom_units\":\"screen\",\"fill_alpha\":{\"value\":0.5},\"fill_color\":{\"value\":\"lightgrey\"},\"left_units\":\"screen\",\"level\":\"overlay\",\"line_alpha\":{\"value\":1.0},\"line_color\":{\"value\":\"black\"},\"line_dash\":[4,4],\"line_width\":{\"value\":2},\"plot\":null,\"render_mode\":\"css\",\"right_units\":\"screen\",\"top_units\":\"screen\"},\"id\":\"9f946ef5-e184-4626-b432-4ac3f3833dd8\",\"type\":\"BoxAnnotation\"},{\"attributes\":{\"data_source\":{\"id\":\"3ddaa018-eae9-4a18-8ba7-ec7fc8ea47d9\",\"type\":\"ColumnDataSource\"},\"glyph\":{\"id\":\"4478c426-6097-4f39-974b-768bb86e54cd\",\"type\":\"Rect\"},\"hover_glyph\":null,\"nonselection_glyph\":null,\"selection_glyph\":null},\"id\":\"8141eb5a-56cd-4216-a9fa-349e3c4602c9\",\"type\":\"GlyphRenderer\"},{\"attributes\":{\"callback\":null,\"column_names\":[\"fill_alpha\",\"color\",\"y\",\"line_color\",\"width\",\"x\",\"height\",\"line_alpha\"],\"data\":{\"chart_index\":[{\"game_name\":\"Destiny\"}],\"color\":[\"#f22c40\"],\"fill_alpha\":[0.8],\"game_name\":[\"Destiny\"],\"height\":[402.0],\"line_alpha\":[1.0],\"line_color\":[\"white\"],\"width\":[0.8],\"x\":[\"Destiny\"],\"y\":[201.0]}},\"id\":\"340a290e-190a-4781-939e-f54d23a22f73\",\"type\":\"ColumnDataSource\"},{\"attributes\":{},\"id\":\"c8430e89-9d25-4ef5-b3fc-699b580293e9\",\"type\":\"CategoricalTicker\"},{\"attributes\":{\"data_source\":{\"id\":\"340a290e-190a-4781-939e-f54d23a22f73\",\"type\":\"ColumnDataSource\"},\"glyph\":{\"id\":\"0be95324-b0cd-4a70-92d4-b8b8ddfd592b\",\"type\":\"Rect\"},\"hover_glyph\":null,\"nonselection_glyph\":null,\"selection_glyph\":null},\"id\":\"f9d8b7e7-01e8-46f4-94ff-8035b6ce2cd4\",\"type\":\"GlyphRenderer\"},{\"attributes\":{\"callback\":null,\"column_names\":[\"fill_alpha\",\"color\",\"y\",\"line_color\",\"width\",\"x\",\"height\",\"line_alpha\"],\"data\":{\"chart_index\":[{\"game_name\":\"Fifa 15\"}],\"color\":[\"#f22c40\"],\"fill_alpha\":[0.8],\"game_name\":[\"Fifa 15\"],\"height\":[235.0],\"line_alpha\":[1.0],\"line_color\":[\"white\"],\"width\":[0.8],\"x\":[\"Fifa 15\"],\"y\":[117.5]}},\"id\":\"3ddaa018-eae9-4a18-8ba7-ec7fc8ea47d9\",\"type\":\"ColumnDataSource\"}],\"root_ids\":[\"a17c7093-a5bb-43cd-b57f-65830fe53ed8\"]},\"title\":\"Bokeh Application\",\"version\":\"0.11.1\"}};\n",
       "            var render_items = [{\"docid\":\"254654ad-fb1f-4977-9500-f566502fa825\",\"elementid\":\"e957b3ec-1d1a-473c-b947-6d4e7c931ceb\",\"modelid\":\"a17c7093-a5bb-43cd-b57f-65830fe53ed8\",\"notebook_comms_target\":\"74105cf0-0fc9-4737-9515-81f0d270f939\"}];\n",
       "            \n",
       "            Bokeh.embed.embed_items(docs_json, render_items);\n",
       "        });\n",
       "      },\n",
       "      function(Bokeh) {\n",
       "      }\n",
       "    ];\n",
       "  \n",
       "    function run_inline_js() {\n",
       "      for (var i = 0; i < inline_js.length; i++) {\n",
       "        inline_js[i](window.Bokeh);\n",
       "      }\n",
       "    }\n",
       "  \n",
       "    if (window._bokeh_is_loading === 0) {\n",
       "      console.log(\"Bokeh: BokehJS loaded, going straight to plotting\");\n",
       "      run_inline_js();\n",
       "    } else {\n",
       "      load_libs(js_urls, function() {\n",
       "        console.log(\"Bokeh: BokehJS plotting callback run at\", now());\n",
       "        run_inline_js();\n",
       "      });\n",
       "    }\n",
       "  }(this));\n",
       "</script>"
      ]
     },
     "metadata": {},
     "output_type": "display_data"
    },
    {
     "data": {
      "text/html": [
       "<p><code>&lt;Bokeh Notebook handle for <strong>In[26]</strong>&gt;</code></p>"
      ],
      "text/plain": [
       "<bokeh.io._CommsHandle at 0x7f4241042828>"
      ]
     },
     "execution_count": 26,
     "metadata": {},
     "output_type": "execute_result"
    }
   ],
   "source": [
    "result= _\n",
    "df=result.DataFrame()\n",
    "\n",
    "p = Bar(df, label='game_name', values='count',\n",
    "        title=\"Game Sales Distribution\", legend = False, width=400, height=400, ylabel = 'Count of Sales',)\n",
    "show(p)"
   ]
  },
  {
   "cell_type": "markdown",
   "metadata": {},
   "source": [
    "##### Clearly Destiny is the winner here. Although, my initial hunch was FIFA would be leading the charts; perhaps I'm biased!"
   ]
  },
  {
   "cell_type": "markdown",
   "metadata": {},
   "source": [
    "## 2c. Transaction TABLE"
   ]
  },
  {
   "cell_type": "code",
   "execution_count": 27,
   "metadata": {
    "collapsed": false
   },
   "outputs": [
    {
     "name": "stdout",
     "output_type": "stream",
     "text": [
      "Done.\n",
      "Done.\n"
     ]
    },
    {
     "data": {
      "text/plain": [
       "[]"
      ]
     },
     "execution_count": 27,
     "metadata": {},
     "output_type": "execute_result"
    }
   ],
   "source": [
    "%%sql\n",
    "DROP TABLE IF EXISTS transaction_fct;\n",
    "CREATE TABLE transaction_fct (\n",
    "    ACCT_ID FLOAT,\n",
    "    TIME_STAMP TIMESTAMP,\n",
    "    TRANSACTION_VALUE FLOAT,\n",
    "    SKU INT\n",
    "    )"
   ]
  },
  {
   "cell_type": "code",
   "execution_count": 28,
   "metadata": {
    "collapsed": false
   },
   "outputs": [
    {
     "name": "stdout",
     "output_type": "stream",
     "text": [
      "9945 rows affected.\n"
     ]
    },
    {
     "data": {
      "text/plain": [
       "[]"
      ]
     },
     "execution_count": 28,
     "metadata": {},
     "output_type": "execute_result"
    }
   ],
   "source": [
    "%%sql\n",
    "COPY transaction_fct FROM '/home/jovyan/work/fct_transaction.csv'\n",
    "CSV\n",
    "HEADER\n",
    "QUOTE '\"'\n",
    "DELIMITER ',';"
   ]
  },
  {
   "cell_type": "code",
   "execution_count": 29,
   "metadata": {
    "collapsed": false
   },
   "outputs": [
    {
     "name": "stdout",
     "output_type": "stream",
     "text": [
      "1 rows affected.\n"
     ]
    },
    {
     "data": {
      "text/html": [
       "<table>\n",
       "    <tr>\n",
       "        <th>count</th>\n",
       "    </tr>\n",
       "    <tr>\n",
       "        <td>9945</td>\n",
       "    </tr>\n",
       "</table>"
      ],
      "text/plain": [
       "[(9945,)]"
      ]
     },
     "execution_count": 29,
     "metadata": {},
     "output_type": "execute_result"
    }
   ],
   "source": [
    "%%sql\n",
    "SELECT COUNT(*) from transaction_fct;"
   ]
  },
  {
   "cell_type": "code",
   "execution_count": 30,
   "metadata": {
    "collapsed": false
   },
   "outputs": [
    {
     "name": "stdout",
     "output_type": "stream",
     "text": [
      "1 rows affected.\n"
     ]
    },
    {
     "data": {
      "text/html": [
       "<table>\n",
       "    <tr>\n",
       "        <th>count</th>\n",
       "    </tr>\n",
       "    <tr>\n",
       "        <td>9903</td>\n",
       "    </tr>\n",
       "</table>"
      ],
      "text/plain": [
       "[(9903,)]"
      ]
     },
     "execution_count": 30,
     "metadata": {},
     "output_type": "execute_result"
    }
   ],
   "source": [
    "%%sql\n",
    "SELECT COUNT(DISTINCT(ACCT_ID)) from transaction_fct;"
   ]
  },
  {
   "cell_type": "markdown",
   "metadata": {},
   "source": [
    "##### So we have 9945 transactions in this sample. But recall that we only have 9903 unique account_id's. Which means, some accounts have more than one transaction. "
   ]
  },
  {
   "cell_type": "code",
   "execution_count": 31,
   "metadata": {
    "collapsed": false
   },
   "outputs": [
    {
     "name": "stdout",
     "output_type": "stream",
     "text": [
      "5 rows affected.\n"
     ]
    },
    {
     "data": {
      "text/html": [
       "<table>\n",
       "    <tr>\n",
       "        <th>acct_id</th>\n",
       "        <th>time_stamp</th>\n",
       "        <th>transaction_value</th>\n",
       "        <th>sku</th>\n",
       "    </tr>\n",
       "    <tr>\n",
       "        <td>2.08792477285357e+18</td>\n",
       "        <td>2015-10-19 01:52:00</td>\n",
       "        <td>1.99</td>\n",
       "        <td>64689</td>\n",
       "    </tr>\n",
       "    <tr>\n",
       "        <td>4.58339593175159e+18</td>\n",
       "        <td>2015-10-18 23:40:00</td>\n",
       "        <td>4.19024</td>\n",
       "        <td>67818</td>\n",
       "    </tr>\n",
       "    <tr>\n",
       "        <td>2.64588535429658e+18</td>\n",
       "        <td>2015-10-28 04:47:00</td>\n",
       "        <td>1.99</td>\n",
       "        <td>74635</td>\n",
       "    </tr>\n",
       "    <tr>\n",
       "        <td>2.04508480427123e+18</td>\n",
       "        <td>2015-10-31 22:53:00</td>\n",
       "        <td>19.99</td>\n",
       "        <td>74091</td>\n",
       "    </tr>\n",
       "    <tr>\n",
       "        <td>1.54692428793931e+18</td>\n",
       "        <td>2015-11-03 19:21:00</td>\n",
       "        <td>19.99</td>\n",
       "        <td>58978</td>\n",
       "    </tr>\n",
       "</table>"
      ],
      "text/plain": [
       "[(2.08792477285357e+18, datetime.datetime(2015, 10, 19, 1, 52), 1.99, 64689),\n",
       " (4.58339593175159e+18, datetime.datetime(2015, 10, 18, 23, 40), 4.19024, 67818),\n",
       " (2.64588535429658e+18, datetime.datetime(2015, 10, 28, 4, 47), 1.99, 74635),\n",
       " (2.04508480427123e+18, datetime.datetime(2015, 10, 31, 22, 53), 19.99, 74091),\n",
       " (1.54692428793931e+18, datetime.datetime(2015, 11, 3, 19, 21), 19.99, 58978)]"
      ]
     },
     "execution_count": 31,
     "metadata": {},
     "output_type": "execute_result"
    }
   ],
   "source": [
    "%%sql\n",
    "SELECT * from transaction_fct\n",
    "LIMIT 5;"
   ]
  },
  {
   "cell_type": "markdown",
   "metadata": {},
   "source": [
    "##### Let's do a breakdown of Sales, aggregated by month:"
   ]
  },
  {
   "cell_type": "code",
   "execution_count": 32,
   "metadata": {
    "collapsed": false
   },
   "outputs": [
    {
     "name": "stdout",
     "output_type": "stream",
     "text": [
      "2 rows affected.\n"
     ]
    },
    {
     "data": {
      "text/html": [
       "<table>\n",
       "    <tr>\n",
       "        <th>month</th>\n",
       "        <th>revenue</th>\n",
       "    </tr>\n",
       "    <tr>\n",
       "        <td>2015-10-01 00:00:00</td>\n",
       "        <td>77692.0</td>\n",
       "    </tr>\n",
       "    <tr>\n",
       "        <td>2015-11-01 00:00:00</td>\n",
       "        <td>111407.0</td>\n",
       "    </tr>\n",
       "</table>"
      ],
      "text/plain": [
       "[(datetime.datetime(2015, 10, 1, 0, 0), 77692.0),\n",
       " (datetime.datetime(2015, 11, 1, 0, 0), 111407.0)]"
      ]
     },
     "execution_count": 32,
     "metadata": {},
     "output_type": "execute_result"
    }
   ],
   "source": [
    "%%sql\n",
    "SELECT\n",
    "    date_trunc('month', time_stamp) as month,\n",
    "    FLOOR(SUM(TRANSACTION_VALUE)) as Revenue\n",
    "from transaction_fct\n",
    "GROUP BY month\n",
    "ORDER BY month ASC;"
   ]
  },
  {
   "cell_type": "code",
   "execution_count": 33,
   "metadata": {
    "collapsed": false
   },
   "outputs": [
    {
     "data": {
      "text/html": [
       "\n",
       "\n",
       "    <div class=\"plotdiv\" id=\"113137a9-c195-4e44-b136-74255fb86a11\"></div>\n",
       "<script type=\"text/javascript\">\n",
       "  \n",
       "  (function(global) {\n",
       "    function now() {\n",
       "      return new Date();\n",
       "    }\n",
       "  \n",
       "    if (typeof (window._bokeh_onload_callbacks) === \"undefined\") {\n",
       "      window._bokeh_onload_callbacks = [];\n",
       "    }\n",
       "  \n",
       "    function run_callbacks() {\n",
       "      window._bokeh_onload_callbacks.forEach(function(callback) { callback() });\n",
       "      delete window._bokeh_onload_callbacks\n",
       "      console.info(\"Bokeh: all callbacks have finished\");\n",
       "    }\n",
       "  \n",
       "    function load_libs(js_urls, callback) {\n",
       "      window._bokeh_onload_callbacks.push(callback);\n",
       "      if (window._bokeh_is_loading > 0) {\n",
       "        console.log(\"Bokeh: BokehJS is being loaded, scheduling callback at\", now());\n",
       "        return null;\n",
       "      }\n",
       "      if (js_urls == null || js_urls.length === 0) {\n",
       "        run_callbacks();\n",
       "        return null;\n",
       "      }\n",
       "      console.log(\"Bokeh: BokehJS not loaded, scheduling load and callback at\", now());\n",
       "      window._bokeh_is_loading = js_urls.length;\n",
       "      for (var i = 0; i < js_urls.length; i++) {\n",
       "        var url = js_urls[i];\n",
       "        var s = document.createElement('script');\n",
       "        s.src = url;\n",
       "        s.async = false;\n",
       "        s.onreadystatechange = s.onload = function() {\n",
       "          window._bokeh_is_loading--;\n",
       "          if (window._bokeh_is_loading === 0) {\n",
       "            console.log(\"Bokeh: all BokehJS libraries loaded\");\n",
       "            run_callbacks()\n",
       "          }\n",
       "        };\n",
       "        s.onerror = function() {\n",
       "          console.warn(\"failed to load library \" + url);\n",
       "        };\n",
       "        console.log(\"Bokeh: injecting script tag for BokehJS library: \", url);\n",
       "        document.getElementsByTagName(\"head\")[0].appendChild(s);\n",
       "      }\n",
       "    };var element = document.getElementById(\"113137a9-c195-4e44-b136-74255fb86a11\");\n",
       "    if (element == null) {\n",
       "      console.log(\"Bokeh: ERROR: autoload.js configured with elementid '113137a9-c195-4e44-b136-74255fb86a11' but no matching script tag was found. \")\n",
       "      return false;\n",
       "    }\n",
       "  \n",
       "    var js_urls = [];\n",
       "  \n",
       "    var inline_js = [\n",
       "      function(Bokeh) {\n",
       "        Bokeh.$(function() {\n",
       "            var docs_json = {\"7c92b999-2ea6-4578-bde0-12fa9fe9a4a8\":{\"roots\":{\"references\":[{\"attributes\":{},\"id\":\"bd2f1acf-1200-468b-b7c6-3f39d5981edc\",\"type\":\"CategoricalTickFormatter\"},{\"attributes\":{\"callback\":null,\"end\":422.1},\"id\":\"4d301dbb-8fd6-4689-8adf-0d5f31b8d250\",\"type\":\"Range1d\"},{\"attributes\":{\"data_source\":{\"id\":\"dce48f99-2a43-498d-a2f3-03abab587a44\",\"type\":\"ColumnDataSource\"},\"glyph\":{\"id\":\"700a926c-58f9-4100-8e42-ad05ae3d9007\",\"type\":\"Rect\"},\"hover_glyph\":null,\"nonselection_glyph\":null,\"selection_glyph\":null},\"id\":\"e0711e7e-7506-487b-b2fa-8416751cf82b\",\"type\":\"GlyphRenderer\"},{\"attributes\":{\"fill_alpha\":{\"field\":\"fill_alpha\"},\"fill_color\":{\"field\":\"color\"},\"height\":{\"field\":\"height\",\"units\":\"data\"},\"line_color\":{\"field\":\"line_color\"},\"width\":{\"field\":\"width\",\"units\":\"data\"},\"x\":{\"field\":\"x\"},\"y\":{\"field\":\"y\"}},\"id\":\"4478c426-6097-4f39-974b-768bb86e54cd\",\"type\":\"Rect\"},{\"attributes\":{\"callback\":null,\"column_names\":[\"fill_alpha\",\"color\",\"y\",\"line_color\",\"width\",\"x\",\"height\",\"line_alpha\"],\"data\":{\"Labels\":[\"October\"],\"chart_index\":[{\"Labels\":\"October\"}],\"color\":[\"#f22c40\"],\"fill_alpha\":[0.8],\"height\":[77692.0],\"line_alpha\":[1.0],\"line_color\":[\"white\"],\"width\":[0.8],\"x\":[\"October\"],\"y\":[38846.0]}},\"id\":\"0f072632-de7b-4606-bd47-f1bb8e509a54\",\"type\":\"ColumnDataSource\"},{\"attributes\":{\"callback\":null,\"end\":116977.35},\"id\":\"e2975368-d98e-4f94-9998-2f42d90599be\",\"type\":\"Range1d\"},{\"attributes\":{\"dimension\":1,\"plot\":{\"id\":\"32ce6dbb-0cb2-419b-92be-29c446d8eecd\",\"subtype\":\"Chart\",\"type\":\"Plot\"},\"ticker\":{\"id\":\"1b912a53-817f-4920-95de-9258084bbecf\",\"type\":\"BasicTicker\"}},\"id\":\"6caea83a-4ab7-4ad1-bb22-7da32a815df9\",\"type\":\"Grid\"},{\"attributes\":{\"bottom_units\":\"screen\",\"fill_alpha\":{\"value\":0.5},\"fill_color\":{\"value\":\"lightgrey\"},\"left_units\":\"screen\",\"level\":\"overlay\",\"line_alpha\":{\"value\":1.0},\"line_color\":{\"value\":\"black\"},\"line_dash\":[4,4],\"line_width\":{\"value\":2},\"plot\":null,\"render_mode\":\"css\",\"right_units\":\"screen\",\"top_units\":\"screen\"},\"id\":\"bc551913-a326-4897-9359-27448504981d\",\"type\":\"BoxAnnotation\"},{\"attributes\":{},\"id\":\"1b912a53-817f-4920-95de-9258084bbecf\",\"type\":\"BasicTicker\"},{\"attributes\":{},\"id\":\"b389290b-4839-4bb7-9864-3ebaeef89773\",\"type\":\"ToolEvents\"},{\"attributes\":{},\"id\":\"6f42707f-f684-4577-9301-293322ad7c5a\",\"type\":\"BasicTickFormatter\"},{\"attributes\":{\"data_source\":{\"id\":\"e1f545f2-9f59-4cca-a344-fa0ebfb7ac8c\",\"type\":\"ColumnDataSource\"},\"glyph\":{\"id\":\"42fa8a3a-d73a-49e4-8614-a92ebfad4873\",\"type\":\"Rect\"},\"hover_glyph\":null,\"nonselection_glyph\":null,\"selection_glyph\":null},\"id\":\"ae451150-703d-4738-a81e-2ac961cbfe92\",\"type\":\"GlyphRenderer\"},{\"attributes\":{\"callback\":null,\"column_names\":[\"fill_alpha\",\"color\",\"y\",\"line_color\",\"width\",\"x\",\"height\",\"line_alpha\"],\"data\":{\"chart_index\":[{\"game_name\":\"Fifa 16\"}],\"color\":[\"#f22c40\"],\"fill_alpha\":[0.8],\"game_name\":[\"Fifa 16\"],\"height\":[104.0],\"line_alpha\":[1.0],\"line_color\":[\"white\"],\"width\":[0.8],\"x\":[\"Fifa 16\"],\"y\":[52.0]}},\"id\":\"dce48f99-2a43-498d-a2f3-03abab587a44\",\"type\":\"ColumnDataSource\"},{\"attributes\":{\"plot\":{\"id\":\"a17c7093-a5bb-43cd-b57f-65830fe53ed8\",\"subtype\":\"Chart\",\"type\":\"Plot\"}},\"id\":\"96f53993-49ae-4706-ba4c-ea2c155ae7c4\",\"type\":\"PanTool\"},{\"attributes\":{\"plot\":{\"id\":\"32ce6dbb-0cb2-419b-92be-29c446d8eecd\",\"subtype\":\"Chart\",\"type\":\"Plot\"}},\"id\":\"e220b3e8-9f46-4269-9af7-9f139553ec73\",\"type\":\"ResetTool\"},{\"attributes\":{\"plot\":{\"id\":\"a17c7093-a5bb-43cd-b57f-65830fe53ed8\",\"subtype\":\"Chart\",\"type\":\"Plot\"}},\"id\":\"c2ebaee1-aac2-42a7-a161-93eeecc5160f\",\"type\":\"HelpTool\"},{\"attributes\":{\"fill_alpha\":{\"field\":\"fill_alpha\"},\"fill_color\":{\"field\":\"color\"},\"height\":{\"field\":\"height\",\"units\":\"data\"},\"line_color\":{\"field\":\"line_color\"},\"width\":{\"field\":\"width\",\"units\":\"data\"},\"x\":{\"field\":\"x\"},\"y\":{\"field\":\"y\"}},\"id\":\"700a926c-58f9-4100-8e42-ad05ae3d9007\",\"type\":\"Rect\"},{\"attributes\":{\"plot\":{\"id\":\"32ce6dbb-0cb2-419b-92be-29c446d8eecd\",\"subtype\":\"Chart\",\"type\":\"Plot\"}},\"id\":\"28705207-b312-4258-8050-698f9292055d\",\"type\":\"PreviewSaveTool\"},{\"attributes\":{\"plot\":{\"id\":\"32ce6dbb-0cb2-419b-92be-29c446d8eecd\",\"subtype\":\"Chart\",\"type\":\"Plot\"}},\"id\":\"7ce8d7ef-38ee-408a-b2a4-dc741abdfb17\",\"type\":\"PanTool\"},{\"attributes\":{\"axis_label\":\"Months\",\"formatter\":{\"id\":\"2ca074d4-8e67-44fe-8678-e24b4b1469a8\",\"type\":\"CategoricalTickFormatter\"},\"major_label_orientation\":0.7853981633974483,\"plot\":{\"id\":\"32ce6dbb-0cb2-419b-92be-29c446d8eecd\",\"subtype\":\"Chart\",\"type\":\"Plot\"},\"ticker\":{\"id\":\"6e27af7f-1c35-4865-9596-a02d7173a1da\",\"type\":\"CategoricalTicker\"}},\"id\":\"e4fce127-274d-4901-9029-ce3e796c4ba9\",\"type\":\"CategoricalAxis\"},{\"attributes\":{\"plot\":{\"id\":\"a17c7093-a5bb-43cd-b57f-65830fe53ed8\",\"subtype\":\"Chart\",\"type\":\"Plot\"}},\"id\":\"9d8d7b14-9bf3-4daa-9a60-166dc7629274\",\"type\":\"ResizeTool\"},{\"attributes\":{\"plot\":{\"id\":\"a17c7093-a5bb-43cd-b57f-65830fe53ed8\",\"subtype\":\"Chart\",\"type\":\"Plot\"}},\"id\":\"c305f12f-1823-454a-916f-cc0d676e7b8a\",\"type\":\"PreviewSaveTool\"},{\"attributes\":{\"overlay\":{\"id\":\"bc551913-a326-4897-9359-27448504981d\",\"type\":\"BoxAnnotation\"},\"plot\":{\"id\":\"32ce6dbb-0cb2-419b-92be-29c446d8eecd\",\"subtype\":\"Chart\",\"type\":\"Plot\"}},\"id\":\"579596b9-747b-46c2-b2be-bd081bb57c10\",\"type\":\"BoxZoomTool\"},{\"attributes\":{\"data_source\":{\"id\":\"0f072632-de7b-4606-bd47-f1bb8e509a54\",\"type\":\"ColumnDataSource\"},\"glyph\":{\"id\":\"6c12a8ab-c3dc-42d3-a16f-0d6aa66a1fcb\",\"type\":\"Rect\"},\"hover_glyph\":null,\"nonselection_glyph\":null,\"selection_glyph\":null},\"id\":\"c3d1d2b5-d1ef-44a2-8066-21eebcf589db\",\"type\":\"GlyphRenderer\"},{\"attributes\":{},\"id\":\"cb21353a-273d-4ee2-8df6-5c89ab80f604\",\"type\":\"BasicTickFormatter\"},{\"attributes\":{},\"id\":\"6e27af7f-1c35-4865-9596-a02d7173a1da\",\"type\":\"CategoricalTicker\"},{\"attributes\":{\"callback\":null,\"column_names\":[\"fill_alpha\",\"color\",\"y\",\"line_color\",\"width\",\"x\",\"height\",\"line_alpha\"],\"data\":{\"chart_index\":[{\"game_name\":\"Fifa 15\"}],\"color\":[\"#f22c40\"],\"fill_alpha\":[0.8],\"game_name\":[\"Fifa 15\"],\"height\":[235.0],\"line_alpha\":[1.0],\"line_color\":[\"white\"],\"width\":[0.8],\"x\":[\"Fifa 15\"],\"y\":[117.5]}},\"id\":\"3ddaa018-eae9-4a18-8ba7-ec7fc8ea47d9\",\"type\":\"ColumnDataSource\"},{\"attributes\":{\"callback\":null,\"column_names\":[\"fill_alpha\",\"color\",\"y\",\"line_color\",\"width\",\"x\",\"height\",\"line_alpha\"],\"data\":{\"chart_index\":[{\"game_name\":\"Destiny\"}],\"color\":[\"#f22c40\"],\"fill_alpha\":[0.8],\"game_name\":[\"Destiny\"],\"height\":[402.0],\"line_alpha\":[1.0],\"line_color\":[\"white\"],\"width\":[0.8],\"x\":[\"Destiny\"],\"y\":[201.0]}},\"id\":\"340a290e-190a-4781-939e-f54d23a22f73\",\"type\":\"ColumnDataSource\"},{\"attributes\":{},\"id\":\"c8430e89-9d25-4ef5-b3fc-699b580293e9\",\"type\":\"CategoricalTicker\"},{\"attributes\":{\"bottom_units\":\"screen\",\"fill_alpha\":{\"value\":0.5},\"fill_color\":{\"value\":\"lightgrey\"},\"left_units\":\"screen\",\"level\":\"overlay\",\"line_alpha\":{\"value\":1.0},\"line_color\":{\"value\":\"black\"},\"line_dash\":[4,4],\"line_width\":{\"value\":2},\"plot\":null,\"render_mode\":\"css\",\"right_units\":\"screen\",\"top_units\":\"screen\"},\"id\":\"9f946ef5-e184-4626-b432-4ac3f3833dd8\",\"type\":\"BoxAnnotation\"},{\"attributes\":{\"plot\":{\"id\":\"32ce6dbb-0cb2-419b-92be-29c446d8eecd\",\"subtype\":\"Chart\",\"type\":\"Plot\"}},\"id\":\"8fdd76e1-0a19-4867-87fd-bd9d01b07b8b\",\"type\":\"ResizeTool\"},{\"attributes\":{\"plot\":{\"id\":\"a17c7093-a5bb-43cd-b57f-65830fe53ed8\",\"subtype\":\"Chart\",\"type\":\"Plot\"}},\"id\":\"f9cb2542-5a2c-4dd2-96a8-02a720ea3bcd\",\"type\":\"WheelZoomTool\"},{\"attributes\":{\"axis_label\":\"Game_Name\",\"formatter\":{\"id\":\"bd2f1acf-1200-468b-b7c6-3f39d5981edc\",\"type\":\"CategoricalTickFormatter\"},\"major_label_orientation\":0.7853981633974483,\"plot\":{\"id\":\"a17c7093-a5bb-43cd-b57f-65830fe53ed8\",\"subtype\":\"Chart\",\"type\":\"Plot\"},\"ticker\":{\"id\":\"c8430e89-9d25-4ef5-b3fc-699b580293e9\",\"type\":\"CategoricalTicker\"}},\"id\":\"b87d4271-bfc1-47dc-8b77-2fc993e09d1c\",\"type\":\"CategoricalAxis\"},{\"attributes\":{\"callback\":null,\"factors\":[\"November\",\"October\"]},\"id\":\"bd4ee683-4399-4536-8913-558cade3376a\",\"type\":\"FactorRange\"},{\"attributes\":{\"overlay\":{\"id\":\"9f946ef5-e184-4626-b432-4ac3f3833dd8\",\"type\":\"BoxAnnotation\"},\"plot\":{\"id\":\"a17c7093-a5bb-43cd-b57f-65830fe53ed8\",\"subtype\":\"Chart\",\"type\":\"Plot\"}},\"id\":\"1206d9a8-c465-42a8-a0f6-8f21e1413ff6\",\"type\":\"BoxZoomTool\"},{\"attributes\":{\"fill_alpha\":{\"field\":\"fill_alpha\"},\"fill_color\":{\"field\":\"color\"},\"height\":{\"field\":\"height\",\"units\":\"data\"},\"line_color\":{\"field\":\"line_color\"},\"width\":{\"field\":\"width\",\"units\":\"data\"},\"x\":{\"field\":\"x\"},\"y\":{\"field\":\"y\"}},\"id\":\"6c12a8ab-c3dc-42d3-a16f-0d6aa66a1fcb\",\"type\":\"Rect\"},{\"attributes\":{\"callback\":null,\"factors\":[\"Destiny\",\"Fifa 15\",\"Fifa 16\"]},\"id\":\"13f149a6-89b2-4c65-b193-f67f7541d37b\",\"type\":\"FactorRange\"},{\"attributes\":{\"plot\":{\"id\":\"32ce6dbb-0cb2-419b-92be-29c446d8eecd\",\"subtype\":\"Chart\",\"type\":\"Plot\"}},\"id\":\"4a36af6d-6035-4f15-b497-659a9f0f7969\",\"type\":\"WheelZoomTool\"},{\"attributes\":{\"axis_label\":\"Revenue\",\"formatter\":{\"id\":\"6f42707f-f684-4577-9301-293322ad7c5a\",\"type\":\"BasicTickFormatter\"},\"plot\":{\"id\":\"32ce6dbb-0cb2-419b-92be-29c446d8eecd\",\"subtype\":\"Chart\",\"type\":\"Plot\"},\"ticker\":{\"id\":\"1b912a53-817f-4920-95de-9258084bbecf\",\"type\":\"BasicTicker\"}},\"id\":\"6d3f783a-0197-4232-8842-813781f43664\",\"type\":\"LinearAxis\"},{\"attributes\":{\"plot\":{\"id\":\"a17c7093-a5bb-43cd-b57f-65830fe53ed8\",\"subtype\":\"Chart\",\"type\":\"Plot\"}},\"id\":\"ccdda7f8-fab2-418d-8a94-40ad2b1f3eac\",\"type\":\"ResetTool\"},{\"attributes\":{\"callback\":null,\"column_names\":[\"fill_alpha\",\"color\",\"y\",\"line_color\",\"width\",\"x\",\"height\",\"line_alpha\"],\"data\":{\"Labels\":[\"November\"],\"chart_index\":[{\"Labels\":\"November\"}],\"color\":[\"#f22c40\"],\"fill_alpha\":[0.8],\"height\":[111407.0],\"line_alpha\":[1.0],\"line_color\":[\"white\"],\"width\":[0.8],\"x\":[\"November\"],\"y\":[55703.5]}},\"id\":\"e1f545f2-9f59-4cca-a344-fa0ebfb7ac8c\",\"type\":\"ColumnDataSource\"},{\"attributes\":{\"below\":[{\"id\":\"e4fce127-274d-4901-9029-ce3e796c4ba9\",\"type\":\"CategoricalAxis\"}],\"left\":[{\"id\":\"6d3f783a-0197-4232-8842-813781f43664\",\"type\":\"LinearAxis\"}],\"legend\":false,\"plot_height\":500,\"plot_width\":500,\"renderers\":[{\"id\":\"bc551913-a326-4897-9359-27448504981d\",\"type\":\"BoxAnnotation\"},{\"id\":\"c3d1d2b5-d1ef-44a2-8066-21eebcf589db\",\"type\":\"GlyphRenderer\"},{\"id\":\"ae451150-703d-4738-a81e-2ac961cbfe92\",\"type\":\"GlyphRenderer\"},{\"id\":\"e4fce127-274d-4901-9029-ce3e796c4ba9\",\"type\":\"CategoricalAxis\"},{\"id\":\"6d3f783a-0197-4232-8842-813781f43664\",\"type\":\"LinearAxis\"},{\"id\":\"6caea83a-4ab7-4ad1-bb22-7da32a815df9\",\"type\":\"Grid\"}],\"title\":\"Total Monthly Sales Distribution\",\"title_text_font_size\":{\"value\":\"14pt\"},\"tool_events\":{\"id\":\"b389290b-4839-4bb7-9864-3ebaeef89773\",\"type\":\"ToolEvents\"},\"tools\":[{\"id\":\"7ce8d7ef-38ee-408a-b2a4-dc741abdfb17\",\"type\":\"PanTool\"},{\"id\":\"4a36af6d-6035-4f15-b497-659a9f0f7969\",\"type\":\"WheelZoomTool\"},{\"id\":\"579596b9-747b-46c2-b2be-bd081bb57c10\",\"type\":\"BoxZoomTool\"},{\"id\":\"28705207-b312-4258-8050-698f9292055d\",\"type\":\"PreviewSaveTool\"},{\"id\":\"8fdd76e1-0a19-4867-87fd-bd9d01b07b8b\",\"type\":\"ResizeTool\"},{\"id\":\"e220b3e8-9f46-4269-9af7-9f139553ec73\",\"type\":\"ResetTool\"},{\"id\":\"1f5d71b2-4884-4f1a-a19e-0456a664fc6a\",\"type\":\"HelpTool\"}],\"x_mapper_type\":\"auto\",\"x_range\":{\"id\":\"bd4ee683-4399-4536-8913-558cade3376a\",\"type\":\"FactorRange\"},\"xgrid\":false,\"xscale\":\"auto\",\"y_mapper_type\":\"auto\",\"y_range\":{\"id\":\"e2975368-d98e-4f94-9998-2f42d90599be\",\"type\":\"Range1d\"},\"yscale\":\"auto\"},\"id\":\"32ce6dbb-0cb2-419b-92be-29c446d8eecd\",\"subtype\":\"Chart\",\"type\":\"Plot\"},{\"attributes\":{},\"id\":\"8a3ecbea-bdcb-4fe6-a12d-1a4a008dd7e1\",\"type\":\"BasicTicker\"},{\"attributes\":{\"plot\":{\"id\":\"32ce6dbb-0cb2-419b-92be-29c446d8eecd\",\"subtype\":\"Chart\",\"type\":\"Plot\"}},\"id\":\"1f5d71b2-4884-4f1a-a19e-0456a664fc6a\",\"type\":\"HelpTool\"},{\"attributes\":{\"fill_alpha\":{\"field\":\"fill_alpha\"},\"fill_color\":{\"field\":\"color\"},\"height\":{\"field\":\"height\",\"units\":\"data\"},\"line_color\":{\"field\":\"line_color\"},\"width\":{\"field\":\"width\",\"units\":\"data\"},\"x\":{\"field\":\"x\"},\"y\":{\"field\":\"y\"}},\"id\":\"42fa8a3a-d73a-49e4-8614-a92ebfad4873\",\"type\":\"Rect\"},{\"attributes\":{\"fill_alpha\":{\"field\":\"fill_alpha\"},\"fill_color\":{\"field\":\"color\"},\"height\":{\"field\":\"height\",\"units\":\"data\"},\"line_color\":{\"field\":\"line_color\"},\"width\":{\"field\":\"width\",\"units\":\"data\"},\"x\":{\"field\":\"x\"},\"y\":{\"field\":\"y\"}},\"id\":\"0be95324-b0cd-4a70-92d4-b8b8ddfd592b\",\"type\":\"Rect\"},{\"attributes\":{\"axis_label\":\"Count of Sales\",\"formatter\":{\"id\":\"cb21353a-273d-4ee2-8df6-5c89ab80f604\",\"type\":\"BasicTickFormatter\"},\"plot\":{\"id\":\"a17c7093-a5bb-43cd-b57f-65830fe53ed8\",\"subtype\":\"Chart\",\"type\":\"Plot\"},\"ticker\":{\"id\":\"8a3ecbea-bdcb-4fe6-a12d-1a4a008dd7e1\",\"type\":\"BasicTicker\"}},\"id\":\"8b808248-777c-470f-9642-6b60c5a95afe\",\"type\":\"LinearAxis\"},{\"attributes\":{\"dimension\":1,\"plot\":{\"id\":\"a17c7093-a5bb-43cd-b57f-65830fe53ed8\",\"subtype\":\"Chart\",\"type\":\"Plot\"},\"ticker\":{\"id\":\"8a3ecbea-bdcb-4fe6-a12d-1a4a008dd7e1\",\"type\":\"BasicTicker\"}},\"id\":\"f315f138-d5e9-4e61-9a94-6ac787e38687\",\"type\":\"Grid\"},{\"attributes\":{},\"id\":\"28258246-8c54-4ddd-97d8-062df8c9ed90\",\"type\":\"ToolEvents\"},{\"attributes\":{\"below\":[{\"id\":\"b87d4271-bfc1-47dc-8b77-2fc993e09d1c\",\"type\":\"CategoricalAxis\"}],\"left\":[{\"id\":\"8b808248-777c-470f-9642-6b60c5a95afe\",\"type\":\"LinearAxis\"}],\"legend\":false,\"plot_height\":400,\"plot_width\":400,\"renderers\":[{\"id\":\"9f946ef5-e184-4626-b432-4ac3f3833dd8\",\"type\":\"BoxAnnotation\"},{\"id\":\"f9d8b7e7-01e8-46f4-94ff-8035b6ce2cd4\",\"type\":\"GlyphRenderer\"},{\"id\":\"8141eb5a-56cd-4216-a9fa-349e3c4602c9\",\"type\":\"GlyphRenderer\"},{\"id\":\"e0711e7e-7506-487b-b2fa-8416751cf82b\",\"type\":\"GlyphRenderer\"},{\"id\":\"b87d4271-bfc1-47dc-8b77-2fc993e09d1c\",\"type\":\"CategoricalAxis\"},{\"id\":\"8b808248-777c-470f-9642-6b60c5a95afe\",\"type\":\"LinearAxis\"},{\"id\":\"f315f138-d5e9-4e61-9a94-6ac787e38687\",\"type\":\"Grid\"}],\"title\":\"Game Sales Distribution\",\"title_text_font_size\":{\"value\":\"14pt\"},\"tool_events\":{\"id\":\"28258246-8c54-4ddd-97d8-062df8c9ed90\",\"type\":\"ToolEvents\"},\"tools\":[{\"id\":\"96f53993-49ae-4706-ba4c-ea2c155ae7c4\",\"type\":\"PanTool\"},{\"id\":\"f9cb2542-5a2c-4dd2-96a8-02a720ea3bcd\",\"type\":\"WheelZoomTool\"},{\"id\":\"1206d9a8-c465-42a8-a0f6-8f21e1413ff6\",\"type\":\"BoxZoomTool\"},{\"id\":\"c305f12f-1823-454a-916f-cc0d676e7b8a\",\"type\":\"PreviewSaveTool\"},{\"id\":\"9d8d7b14-9bf3-4daa-9a60-166dc7629274\",\"type\":\"ResizeTool\"},{\"id\":\"ccdda7f8-fab2-418d-8a94-40ad2b1f3eac\",\"type\":\"ResetTool\"},{\"id\":\"c2ebaee1-aac2-42a7-a161-93eeecc5160f\",\"type\":\"HelpTool\"}],\"x_mapper_type\":\"auto\",\"x_range\":{\"id\":\"13f149a6-89b2-4c65-b193-f67f7541d37b\",\"type\":\"FactorRange\"},\"xgrid\":false,\"xscale\":\"auto\",\"y_mapper_type\":\"auto\",\"y_range\":{\"id\":\"4d301dbb-8fd6-4689-8adf-0d5f31b8d250\",\"type\":\"Range1d\"},\"yscale\":\"auto\"},\"id\":\"a17c7093-a5bb-43cd-b57f-65830fe53ed8\",\"subtype\":\"Chart\",\"type\":\"Plot\"},{\"attributes\":{\"data_source\":{\"id\":\"3ddaa018-eae9-4a18-8ba7-ec7fc8ea47d9\",\"type\":\"ColumnDataSource\"},\"glyph\":{\"id\":\"4478c426-6097-4f39-974b-768bb86e54cd\",\"type\":\"Rect\"},\"hover_glyph\":null,\"nonselection_glyph\":null,\"selection_glyph\":null},\"id\":\"8141eb5a-56cd-4216-a9fa-349e3c4602c9\",\"type\":\"GlyphRenderer\"},{\"attributes\":{\"data_source\":{\"id\":\"340a290e-190a-4781-939e-f54d23a22f73\",\"type\":\"ColumnDataSource\"},\"glyph\":{\"id\":\"0be95324-b0cd-4a70-92d4-b8b8ddfd592b\",\"type\":\"Rect\"},\"hover_glyph\":null,\"nonselection_glyph\":null,\"selection_glyph\":null},\"id\":\"f9d8b7e7-01e8-46f4-94ff-8035b6ce2cd4\",\"type\":\"GlyphRenderer\"},{\"attributes\":{},\"id\":\"2ca074d4-8e67-44fe-8678-e24b4b1469a8\",\"type\":\"CategoricalTickFormatter\"}],\"root_ids\":[\"a17c7093-a5bb-43cd-b57f-65830fe53ed8\",\"32ce6dbb-0cb2-419b-92be-29c446d8eecd\"]},\"title\":\"Bokeh Application\",\"version\":\"0.11.1\"}};\n",
       "            var render_items = [{\"docid\":\"7c92b999-2ea6-4578-bde0-12fa9fe9a4a8\",\"elementid\":\"113137a9-c195-4e44-b136-74255fb86a11\",\"modelid\":\"32ce6dbb-0cb2-419b-92be-29c446d8eecd\",\"notebook_comms_target\":\"8a97d7e4-a029-40ad-9a57-787ab67a7a11\"}];\n",
       "            \n",
       "            Bokeh.embed.embed_items(docs_json, render_items);\n",
       "        });\n",
       "      },\n",
       "      function(Bokeh) {\n",
       "      }\n",
       "    ];\n",
       "  \n",
       "    function run_inline_js() {\n",
       "      for (var i = 0; i < inline_js.length; i++) {\n",
       "        inline_js[i](window.Bokeh);\n",
       "      }\n",
       "    }\n",
       "  \n",
       "    if (window._bokeh_is_loading === 0) {\n",
       "      console.log(\"Bokeh: BokehJS loaded, going straight to plotting\");\n",
       "      run_inline_js();\n",
       "    } else {\n",
       "      load_libs(js_urls, function() {\n",
       "        console.log(\"Bokeh: BokehJS plotting callback run at\", now());\n",
       "        run_inline_js();\n",
       "      });\n",
       "    }\n",
       "  }(this));\n",
       "</script>"
      ]
     },
     "metadata": {},
     "output_type": "display_data"
    },
    {
     "data": {
      "text/html": [
       "<p><code>&lt;Bokeh Notebook handle for <strong>In[33]</strong>&gt;</code></p>"
      ],
      "text/plain": [
       "<bokeh.io._CommsHandle at 0x7f423f366358>"
      ]
     },
     "execution_count": 33,
     "metadata": {},
     "output_type": "execute_result"
    }
   ],
   "source": [
    "q4= _\n",
    "df=q4.DataFrame()\n",
    "\n",
    "import pandas as pd\n",
    "\n",
    "df['Labels'] = ['October', 'November']\n",
    "\n",
    "p = Bar(df, label='Labels', values='revenue',\n",
    "        title=\"Total Monthly Sales Distribution\", legend = False, width=500, height=500, ylabel = 'Revenue', xlabel = 'Months')\n",
    "show(p)"
   ]
  },
  {
   "cell_type": "markdown",
   "metadata": {},
   "source": [
    "# Part 3: Final Query\n",
    "\n",
    "### Platforms: PostgreSQL, Python 3"
   ]
  },
  {
   "cell_type": "markdown",
   "metadata": {},
   "source": [
    "##### FINAL QUERY: \"AND\" vs. \"NESTED QUERY\"\n",
    "\n",
    "* **And**: In this case, where we have a small sample data, the 'AND' command works well with INNER JOINS on the entire tables. However, JOINS always cost processing power and we may often be dealing with 'Big-Data'. For such instances, performing a JOIN on the whole table would be unwise and require more than neccessary processing power\n",
    "\n",
    "\n",
    "* **Nested Query:** This is much more efficient in terms of processing power. Using nested query structure, we can only join the pre-filtered table. For example, instead of joining the entire ACCOUNT TABLE to TRANSACTION table, we can only join the accoounts which fit the baseline criteria. That way the processor deals only with what is neccessary. "
   ]
  },
  {
   "cell_type": "markdown",
   "metadata": {},
   "source": [
    "** The AND Structure**: Inefficient for Big-data"
   ]
  },
  {
   "cell_type": "code",
   "execution_count": 34,
   "metadata": {
    "collapsed": false
   },
   "outputs": [
    {
     "name": "stdout",
     "output_type": "stream",
     "text": [
      "41 rows affected.\n"
     ]
    },
    {
     "data": {
      "text/html": [
       "<table>\n",
       "    <tr>\n",
       "        <th>acct_id</th>\n",
       "    </tr>\n",
       "    <tr>\n",
       "        <td>8.73549407001291e+17</td>\n",
       "    </tr>\n",
       "    <tr>\n",
       "        <td>4.84156930539824e+17</td>\n",
       "    </tr>\n",
       "    <tr>\n",
       "        <td>4.10324015967931e+17</td>\n",
       "    </tr>\n",
       "    <tr>\n",
       "        <td>2.93454984205782e+18</td>\n",
       "    </tr>\n",
       "    <tr>\n",
       "        <td>3.88987255340883e+18</td>\n",
       "    </tr>\n",
       "    <tr>\n",
       "        <td>4.2587074691973e+18</td>\n",
       "    </tr>\n",
       "    <tr>\n",
       "        <td>1.14943101197984e+18</td>\n",
       "    </tr>\n",
       "    <tr>\n",
       "        <td>3.13533498366877e+18</td>\n",
       "    </tr>\n",
       "    <tr>\n",
       "        <td>1.70042680937506e+18</td>\n",
       "    </tr>\n",
       "    <tr>\n",
       "        <td>2.8224207565406e+18</td>\n",
       "    </tr>\n",
       "    <tr>\n",
       "        <td>4.43027921003096e+18</td>\n",
       "    </tr>\n",
       "    <tr>\n",
       "        <td>2.85738299498462e+17</td>\n",
       "    </tr>\n",
       "    <tr>\n",
       "        <td>4.0600501012741e+18</td>\n",
       "    </tr>\n",
       "    <tr>\n",
       "        <td>1.52275518729664e+18</td>\n",
       "    </tr>\n",
       "    <tr>\n",
       "        <td>6.19727474748374e+17</td>\n",
       "    </tr>\n",
       "    <tr>\n",
       "        <td>2.79041747260156e+18</td>\n",
       "    </tr>\n",
       "    <tr>\n",
       "        <td>2.3121377836969e+18</td>\n",
       "    </tr>\n",
       "    <tr>\n",
       "        <td>3.00610139056554e+18</td>\n",
       "    </tr>\n",
       "    <tr>\n",
       "        <td>1.10825865438648e+18</td>\n",
       "    </tr>\n",
       "    <tr>\n",
       "        <td>2.79686346456339e+18</td>\n",
       "    </tr>\n",
       "    <tr>\n",
       "        <td>1.86491691186808e+18</td>\n",
       "    </tr>\n",
       "    <tr>\n",
       "        <td>3.82267836203756e+18</td>\n",
       "    </tr>\n",
       "    <tr>\n",
       "        <td>1.60746167241603e+18</td>\n",
       "    </tr>\n",
       "    <tr>\n",
       "        <td>4.49223853061593e+18</td>\n",
       "    </tr>\n",
       "    <tr>\n",
       "        <td>2.53830636358851e+18</td>\n",
       "    </tr>\n",
       "    <tr>\n",
       "        <td>8.08635496132221e+17</td>\n",
       "    </tr>\n",
       "    <tr>\n",
       "        <td>1.04409882563959e+18</td>\n",
       "    </tr>\n",
       "    <tr>\n",
       "        <td>2.97415212552033e+18</td>\n",
       "    </tr>\n",
       "    <tr>\n",
       "        <td>4.35460981397881e+18</td>\n",
       "    </tr>\n",
       "    <tr>\n",
       "        <td>3.393782123067e+18</td>\n",
       "    </tr>\n",
       "    <tr>\n",
       "        <td>1.46343691806454e+18</td>\n",
       "    </tr>\n",
       "    <tr>\n",
       "        <td>2.33297264010803e+18</td>\n",
       "    </tr>\n",
       "    <tr>\n",
       "        <td>2.08048489208458e+17</td>\n",
       "    </tr>\n",
       "    <tr>\n",
       "        <td>5.73774350803868e+17</td>\n",
       "    </tr>\n",
       "    <tr>\n",
       "        <td>1.91379585224953e+18</td>\n",
       "    </tr>\n",
       "    <tr>\n",
       "        <td>2.84484022874967e+18</td>\n",
       "    </tr>\n",
       "    <tr>\n",
       "        <td>7.79830521881711e+17</td>\n",
       "    </tr>\n",
       "    <tr>\n",
       "        <td>3.47421748230121e+18</td>\n",
       "    </tr>\n",
       "    <tr>\n",
       "        <td>8.62068587972456e+17</td>\n",
       "    </tr>\n",
       "    <tr>\n",
       "        <td>3.26731043298497e+18</td>\n",
       "    </tr>\n",
       "    <tr>\n",
       "        <td>6.25879160959013e+17</td>\n",
       "    </tr>\n",
       "</table>"
      ],
      "text/plain": [
       "[(8.73549407001291e+17,),\n",
       " (4.84156930539824e+17,),\n",
       " (4.10324015967931e+17,),\n",
       " (2.93454984205782e+18,),\n",
       " (3.88987255340883e+18,),\n",
       " (4.2587074691973e+18,),\n",
       " (1.14943101197984e+18,),\n",
       " (3.13533498366877e+18,),\n",
       " (1.70042680937506e+18,),\n",
       " (2.8224207565406e+18,),\n",
       " (4.43027921003096e+18,),\n",
       " (2.85738299498462e+17,),\n",
       " (4.0600501012741e+18,),\n",
       " (1.52275518729664e+18,),\n",
       " (6.19727474748374e+17,),\n",
       " (2.79041747260156e+18,),\n",
       " (2.3121377836969e+18,),\n",
       " (3.00610139056554e+18,),\n",
       " (1.10825865438648e+18,),\n",
       " (2.79686346456339e+18,),\n",
       " (1.86491691186808e+18,),\n",
       " (3.82267836203756e+18,),\n",
       " (1.60746167241603e+18,),\n",
       " (4.49223853061593e+18,),\n",
       " (2.53830636358851e+18,),\n",
       " (8.08635496132221e+17,),\n",
       " (1.04409882563959e+18,),\n",
       " (2.97415212552033e+18,),\n",
       " (4.35460981397881e+18,),\n",
       " (3.393782123067e+18,),\n",
       " (1.46343691806454e+18,),\n",
       " (2.33297264010803e+18,),\n",
       " (2.08048489208458e+17,),\n",
       " (5.73774350803868e+17,),\n",
       " (1.91379585224953e+18,),\n",
       " (2.84484022874967e+18,),\n",
       " (7.79830521881711e+17,),\n",
       " (3.47421748230121e+18,),\n",
       " (8.62068587972456e+17,),\n",
       " (3.26731043298497e+18,),\n",
       " (6.25879160959013e+17,)]"
      ]
     },
     "execution_count": 34,
     "metadata": {},
     "output_type": "execute_result"
    }
   ],
   "source": [
    "%%sql\n",
    "SELECT DISTINCT(transaction_fct.ACCT_ID)\n",
    "FROM transaction_fct\n",
    "INNER JOIN account ON transaction_fct.ACCT_ID = account.ACCT_ID\n",
    "INNER JOIN product ON transaction_fct.SKU = product.SKU\n",
    "WHERE COUNTRY_CODE = 'US'\n",
    "AND LANGUAGE_CODE = 'en'\n",
    "AND OPT_IN_FLAG = 1\n",
    "AND GAME_NAME = 'Destiny'\n",
    "AND TRANSACTION_VALUE >= 40\n",
    "AND EXTRACT(MONTH FROM transaction_fct.TIME_STAMP) = 10;"
   ]
  },
  {
   "cell_type": "markdown",
   "metadata": {},
   "source": [
    "**The NESTED QUERY Structure**: Efficient "
   ]
  },
  {
   "cell_type": "markdown",
   "metadata": {},
   "source": [
    "##### How does this work?\n",
    "* **qr1 (TRANSACTION)** = This is query 1 filtering out all accounts that fit the transaction criterions\n",
    "\n",
    "\n",
    "* **qr2 (PRODUCT)** = This is query 2 for filtering out ONLY 'Destiny' SKUs\n",
    "\n",
    "\n",
    "* **q3 (JOIN: TRANSACTION + PRODUCT)**: Here, I am joining only the filtered transactions with filtered SKUs\n",
    "\n",
    "\n",
    "* **q4 (ACCOUNT)**: This is query 4 for filtering out the baseline account specific criterions\n",
    "\n",
    "\n",
    "* **q4 (JOIN: q4 + q3)**: Here, I am joining the already filtered q3 to filtered account id's"
   ]
  },
  {
   "cell_type": "code",
   "execution_count": 35,
   "metadata": {
    "collapsed": false
   },
   "outputs": [
    {
     "name": "stdout",
     "output_type": "stream",
     "text": [
      "41 rows affected.\n"
     ]
    },
    {
     "data": {
      "text/html": [
       "<table>\n",
       "    <tr>\n",
       "        <th>acct_id</th>\n",
       "    </tr>\n",
       "    <tr>\n",
       "        <td>8.73549407001291e+17</td>\n",
       "    </tr>\n",
       "    <tr>\n",
       "        <td>4.84156930539824e+17</td>\n",
       "    </tr>\n",
       "    <tr>\n",
       "        <td>2.93454984205782e+18</td>\n",
       "    </tr>\n",
       "    <tr>\n",
       "        <td>4.10324015967931e+17</td>\n",
       "    </tr>\n",
       "    <tr>\n",
       "        <td>3.88987255340883e+18</td>\n",
       "    </tr>\n",
       "    <tr>\n",
       "        <td>4.2587074691973e+18</td>\n",
       "    </tr>\n",
       "    <tr>\n",
       "        <td>3.13533498366877e+18</td>\n",
       "    </tr>\n",
       "    <tr>\n",
       "        <td>1.14943101197984e+18</td>\n",
       "    </tr>\n",
       "    <tr>\n",
       "        <td>1.70042680937506e+18</td>\n",
       "    </tr>\n",
       "    <tr>\n",
       "        <td>2.8224207565406e+18</td>\n",
       "    </tr>\n",
       "    <tr>\n",
       "        <td>4.43027921003096e+18</td>\n",
       "    </tr>\n",
       "    <tr>\n",
       "        <td>2.85738299498462e+17</td>\n",
       "    </tr>\n",
       "    <tr>\n",
       "        <td>4.0600501012741e+18</td>\n",
       "    </tr>\n",
       "    <tr>\n",
       "        <td>6.19727474748374e+17</td>\n",
       "    </tr>\n",
       "    <tr>\n",
       "        <td>2.79041747260156e+18</td>\n",
       "    </tr>\n",
       "    <tr>\n",
       "        <td>1.52275518729664e+18</td>\n",
       "    </tr>\n",
       "    <tr>\n",
       "        <td>2.3121377836969e+18</td>\n",
       "    </tr>\n",
       "    <tr>\n",
       "        <td>3.00610139056554e+18</td>\n",
       "    </tr>\n",
       "    <tr>\n",
       "        <td>1.10825865438648e+18</td>\n",
       "    </tr>\n",
       "    <tr>\n",
       "        <td>2.79686346456339e+18</td>\n",
       "    </tr>\n",
       "    <tr>\n",
       "        <td>1.86491691186808e+18</td>\n",
       "    </tr>\n",
       "    <tr>\n",
       "        <td>3.82267836203756e+18</td>\n",
       "    </tr>\n",
       "    <tr>\n",
       "        <td>1.60746167241603e+18</td>\n",
       "    </tr>\n",
       "    <tr>\n",
       "        <td>2.53830636358851e+18</td>\n",
       "    </tr>\n",
       "    <tr>\n",
       "        <td>4.49223853061593e+18</td>\n",
       "    </tr>\n",
       "    <tr>\n",
       "        <td>8.08635496132221e+17</td>\n",
       "    </tr>\n",
       "    <tr>\n",
       "        <td>3.393782123067e+18</td>\n",
       "    </tr>\n",
       "    <tr>\n",
       "        <td>2.97415212552033e+18</td>\n",
       "    </tr>\n",
       "    <tr>\n",
       "        <td>4.35460981397881e+18</td>\n",
       "    </tr>\n",
       "    <tr>\n",
       "        <td>1.04409882563959e+18</td>\n",
       "    </tr>\n",
       "    <tr>\n",
       "        <td>2.33297264010803e+18</td>\n",
       "    </tr>\n",
       "    <tr>\n",
       "        <td>1.46343691806454e+18</td>\n",
       "    </tr>\n",
       "    <tr>\n",
       "        <td>2.08048489208458e+17</td>\n",
       "    </tr>\n",
       "    <tr>\n",
       "        <td>5.73774350803868e+17</td>\n",
       "    </tr>\n",
       "    <tr>\n",
       "        <td>1.91379585224953e+18</td>\n",
       "    </tr>\n",
       "    <tr>\n",
       "        <td>2.84484022874967e+18</td>\n",
       "    </tr>\n",
       "    <tr>\n",
       "        <td>7.79830521881711e+17</td>\n",
       "    </tr>\n",
       "    <tr>\n",
       "        <td>3.47421748230121e+18</td>\n",
       "    </tr>\n",
       "    <tr>\n",
       "        <td>8.62068587972456e+17</td>\n",
       "    </tr>\n",
       "    <tr>\n",
       "        <td>3.26731043298497e+18</td>\n",
       "    </tr>\n",
       "    <tr>\n",
       "        <td>6.25879160959013e+17</td>\n",
       "    </tr>\n",
       "</table>"
      ],
      "text/plain": [
       "[(8.73549407001291e+17,),\n",
       " (4.84156930539824e+17,),\n",
       " (2.93454984205782e+18,),\n",
       " (4.10324015967931e+17,),\n",
       " (3.88987255340883e+18,),\n",
       " (4.2587074691973e+18,),\n",
       " (3.13533498366877e+18,),\n",
       " (1.14943101197984e+18,),\n",
       " (1.70042680937506e+18,),\n",
       " (2.8224207565406e+18,),\n",
       " (4.43027921003096e+18,),\n",
       " (2.85738299498462e+17,),\n",
       " (4.0600501012741e+18,),\n",
       " (6.19727474748374e+17,),\n",
       " (2.79041747260156e+18,),\n",
       " (1.52275518729664e+18,),\n",
       " (2.3121377836969e+18,),\n",
       " (3.00610139056554e+18,),\n",
       " (1.10825865438648e+18,),\n",
       " (2.79686346456339e+18,),\n",
       " (1.86491691186808e+18,),\n",
       " (3.82267836203756e+18,),\n",
       " (1.60746167241603e+18,),\n",
       " (2.53830636358851e+18,),\n",
       " (4.49223853061593e+18,),\n",
       " (8.08635496132221e+17,),\n",
       " (3.393782123067e+18,),\n",
       " (2.97415212552033e+18,),\n",
       " (4.35460981397881e+18,),\n",
       " (1.04409882563959e+18,),\n",
       " (2.33297264010803e+18,),\n",
       " (1.46343691806454e+18,),\n",
       " (2.08048489208458e+17,),\n",
       " (5.73774350803868e+17,),\n",
       " (1.91379585224953e+18,),\n",
       " (2.84484022874967e+18,),\n",
       " (7.79830521881711e+17,),\n",
       " (3.47421748230121e+18,),\n",
       " (8.62068587972456e+17,),\n",
       " (3.26731043298497e+18,),\n",
       " (6.25879160959013e+17,)]"
      ]
     },
     "execution_count": 35,
     "metadata": {},
     "output_type": "execute_result"
    }
   ],
   "source": [
    "%%sql\n",
    "SELECT DISTINCT(qr3.ACCT_ID)\n",
    "FROM(\n",
    "    SELECT qr1.ACCT_ID\n",
    "    FROM(\n",
    "        SELECT DISTINCT(transaction_fct.ACCT_ID), transaction_fct.TRANSACTION_VALUE, transaction_fct.SKU\n",
    "        FROM transaction_fct \n",
    "        WHERE transaction_fct.TRANSACTION_VALUE >= 40\n",
    "        AND EXTRACT(MONTH FROM transaction_fct.TIME_STAMP) = 10\n",
    "    ) qr1 \n",
    "    INNER JOIN \n",
    "    (\n",
    "        SELECT product.SKU\n",
    "        FROM product\n",
    "        WHERE GAME_NAME = 'Destiny'\n",
    "\n",
    "    ) qr2 ON qr1.SKU = qr2.SKU   \n",
    ") qr3 \n",
    "INNER JOIN \n",
    "(\n",
    "    SELECT account.ACCT_ID\n",
    "    FROM account \n",
    "    WHERE COUNTRY_CODE = 'US'\n",
    "        AND LANGUAGE_CODE = 'en'\n",
    "        AND OPT_IN_FLAG = 1\n",
    ")qr4 ON qr3.ACCT_ID = qr4.ACCT_ID\n",
    "\n"
   ]
  },
  {
   "cell_type": "code",
   "execution_count": 36,
   "metadata": {
    "collapsed": false
   },
   "outputs": [],
   "source": [
    "from pandas import DataFrame \n",
    "\n",
    "final_q = _\n",
    "df=final_q.DataFrame()\n",
    "df.to_csv('target_accounts.csv')"
   ]
  }
 ],
 "metadata": {
  "anaconda-cloud": {},
  "kernelspec": {
   "display_name": "Python 3",
   "language": "python",
   "name": "python3"
  },
  "language_info": {
   "codemirror_mode": {
    "name": "ipython",
    "version": 3
   },
   "file_extension": ".py",
   "mimetype": "text/x-python",
   "name": "python",
   "nbconvert_exporter": "python",
   "pygments_lexer": "ipython3",
   "version": "3.5.2"
  }
 },
 "nbformat": 4,
 "nbformat_minor": 1
}
